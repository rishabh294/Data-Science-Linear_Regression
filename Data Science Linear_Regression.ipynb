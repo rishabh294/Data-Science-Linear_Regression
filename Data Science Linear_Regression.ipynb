{
 "cells": [
  {
   "cell_type": "markdown",
   "metadata": {},
   "source": [
    "# Reding Data without Pandas"
   ]
  },
  {
   "cell_type": "code",
   "execution_count": 1,
   "metadata": {},
   "outputs": [],
   "source": [
    "import csv"
   ]
  },
  {
   "cell_type": "code",
   "execution_count": 2,
   "metadata": {},
   "outputs": [],
   "source": [
    "messages = []\n",
    "with open('Advertising.csv') as csvfile:\n",
    "    reader = csv.DictReader(csvfile, fieldnames=('X1','TV', 'Radio', 'Newspaper', 'Sales'))\n",
    "    for row in reader:\n",
    "        messages.append(row)"
   ]
  },
  {
   "cell_type": "code",
   "execution_count": 3,
   "metadata": {},
   "outputs": [
    {
     "data": {
      "text/plain": [
       "[OrderedDict([('X1', 'X1'),\n",
       "              ('TV', 'TV'),\n",
       "              ('Radio', 'Radio'),\n",
       "              ('Newspaper', 'Newspaper'),\n",
       "              ('Sales', 'Sales')]),\n",
       " OrderedDict([('X1', '1'),\n",
       "              ('TV', '230.1'),\n",
       "              ('Radio', '37.8'),\n",
       "              ('Newspaper', '69.2'),\n",
       "              ('Sales', '22.1')]),\n",
       " OrderedDict([('X1', '2'),\n",
       "              ('TV', '44.5'),\n",
       "              ('Radio', '39.3'),\n",
       "              ('Newspaper', '45.1'),\n",
       "              ('Sales', '10.4')]),\n",
       " OrderedDict([('X1', '3'),\n",
       "              ('TV', '17.2'),\n",
       "              ('Radio', '45.9'),\n",
       "              ('Newspaper', '69.3'),\n",
       "              ('Sales', '9.3')]),\n",
       " OrderedDict([('X1', '4'),\n",
       "              ('TV', '151.5'),\n",
       "              ('Radio', '41.3'),\n",
       "              ('Newspaper', '58.5'),\n",
       "              ('Sales', '18.5')]),\n",
       " OrderedDict([('X1', '5'),\n",
       "              ('TV', '180.8'),\n",
       "              ('Radio', '10.8'),\n",
       "              ('Newspaper', '58.4'),\n",
       "              ('Sales', '12.9')]),\n",
       " OrderedDict([('X1', '6'),\n",
       "              ('TV', '8.7'),\n",
       "              ('Radio', '48.9'),\n",
       "              ('Newspaper', '75'),\n",
       "              ('Sales', '7.2')]),\n",
       " OrderedDict([('X1', '7'),\n",
       "              ('TV', '57.5'),\n",
       "              ('Radio', '32.8'),\n",
       "              ('Newspaper', '23.5'),\n",
       "              ('Sales', '11.8')]),\n",
       " OrderedDict([('X1', '8'),\n",
       "              ('TV', '120.2'),\n",
       "              ('Radio', '19.6'),\n",
       "              ('Newspaper', '11.6'),\n",
       "              ('Sales', '13.2')]),\n",
       " OrderedDict([('X1', '9'),\n",
       "              ('TV', '8.6'),\n",
       "              ('Radio', '2.1'),\n",
       "              ('Newspaper', '1'),\n",
       "              ('Sales', '4.8')]),\n",
       " OrderedDict([('X1', '10'),\n",
       "              ('TV', '199.8'),\n",
       "              ('Radio', '2.6'),\n",
       "              ('Newspaper', '21.2'),\n",
       "              ('Sales', '10.6')]),\n",
       " OrderedDict([('X1', '11'),\n",
       "              ('TV', '66.1'),\n",
       "              ('Radio', '5.8'),\n",
       "              ('Newspaper', '24.2'),\n",
       "              ('Sales', '8.6')]),\n",
       " OrderedDict([('X1', '12'),\n",
       "              ('TV', '214.7'),\n",
       "              ('Radio', '24'),\n",
       "              ('Newspaper', '4'),\n",
       "              ('Sales', '17.4')]),\n",
       " OrderedDict([('X1', '13'),\n",
       "              ('TV', '23.8'),\n",
       "              ('Radio', '35.1'),\n",
       "              ('Newspaper', '65.9'),\n",
       "              ('Sales', '9.2')]),\n",
       " OrderedDict([('X1', '14'),\n",
       "              ('TV', '97.5'),\n",
       "              ('Radio', '7.6'),\n",
       "              ('Newspaper', '7.2'),\n",
       "              ('Sales', '9.7')]),\n",
       " OrderedDict([('X1', '15'),\n",
       "              ('TV', '204.1'),\n",
       "              ('Radio', '32.9'),\n",
       "              ('Newspaper', '46'),\n",
       "              ('Sales', '19')]),\n",
       " OrderedDict([('X1', '16'),\n",
       "              ('TV', '195.4'),\n",
       "              ('Radio', '47.7'),\n",
       "              ('Newspaper', '52.9'),\n",
       "              ('Sales', '22.4')]),\n",
       " OrderedDict([('X1', '17'),\n",
       "              ('TV', '67.8'),\n",
       "              ('Radio', '36.6'),\n",
       "              ('Newspaper', '114'),\n",
       "              ('Sales', '12.5')]),\n",
       " OrderedDict([('X1', '18'),\n",
       "              ('TV', '281.4'),\n",
       "              ('Radio', '39.6'),\n",
       "              ('Newspaper', '55.8'),\n",
       "              ('Sales', '24.4')]),\n",
       " OrderedDict([('X1', '19'),\n",
       "              ('TV', '69.2'),\n",
       "              ('Radio', '20.5'),\n",
       "              ('Newspaper', '18.3'),\n",
       "              ('Sales', '11.3')]),\n",
       " OrderedDict([('X1', '20'),\n",
       "              ('TV', '147.3'),\n",
       "              ('Radio', '23.9'),\n",
       "              ('Newspaper', '19.1'),\n",
       "              ('Sales', '14.6')]),\n",
       " OrderedDict([('X1', '21'),\n",
       "              ('TV', '218.4'),\n",
       "              ('Radio', '27.7'),\n",
       "              ('Newspaper', '53.4'),\n",
       "              ('Sales', '18')]),\n",
       " OrderedDict([('X1', '22'),\n",
       "              ('TV', '237.4'),\n",
       "              ('Radio', '5.1'),\n",
       "              ('Newspaper', '23.5'),\n",
       "              ('Sales', '12.5')]),\n",
       " OrderedDict([('X1', '23'),\n",
       "              ('TV', '13.2'),\n",
       "              ('Radio', '15.9'),\n",
       "              ('Newspaper', '49.6'),\n",
       "              ('Sales', '5.6')]),\n",
       " OrderedDict([('X1', '24'),\n",
       "              ('TV', '228.3'),\n",
       "              ('Radio', '16.9'),\n",
       "              ('Newspaper', '26.2'),\n",
       "              ('Sales', '15.5')]),\n",
       " OrderedDict([('X1', '25'),\n",
       "              ('TV', '62.3'),\n",
       "              ('Radio', '12.6'),\n",
       "              ('Newspaper', '18.3'),\n",
       "              ('Sales', '9.7')]),\n",
       " OrderedDict([('X1', '26'),\n",
       "              ('TV', '262.9'),\n",
       "              ('Radio', '3.5'),\n",
       "              ('Newspaper', '19.5'),\n",
       "              ('Sales', '12')]),\n",
       " OrderedDict([('X1', '27'),\n",
       "              ('TV', '142.9'),\n",
       "              ('Radio', '29.3'),\n",
       "              ('Newspaper', '12.6'),\n",
       "              ('Sales', '15')]),\n",
       " OrderedDict([('X1', '28'),\n",
       "              ('TV', '240.1'),\n",
       "              ('Radio', '16.7'),\n",
       "              ('Newspaper', '22.9'),\n",
       "              ('Sales', '15.9')]),\n",
       " OrderedDict([('X1', '29'),\n",
       "              ('TV', '248.8'),\n",
       "              ('Radio', '27.1'),\n",
       "              ('Newspaper', '22.9'),\n",
       "              ('Sales', '18.9')]),\n",
       " OrderedDict([('X1', '30'),\n",
       "              ('TV', '70.6'),\n",
       "              ('Radio', '16'),\n",
       "              ('Newspaper', '40.8'),\n",
       "              ('Sales', '10.5')]),\n",
       " OrderedDict([('X1', '31'),\n",
       "              ('TV', '292.9'),\n",
       "              ('Radio', '28.3'),\n",
       "              ('Newspaper', '43.2'),\n",
       "              ('Sales', '21.4')]),\n",
       " OrderedDict([('X1', '32'),\n",
       "              ('TV', '112.9'),\n",
       "              ('Radio', '17.4'),\n",
       "              ('Newspaper', '38.6'),\n",
       "              ('Sales', '11.9')]),\n",
       " OrderedDict([('X1', '33'),\n",
       "              ('TV', '97.2'),\n",
       "              ('Radio', '1.5'),\n",
       "              ('Newspaper', '30'),\n",
       "              ('Sales', '9.6')]),\n",
       " OrderedDict([('X1', '34'),\n",
       "              ('TV', '265.6'),\n",
       "              ('Radio', '20'),\n",
       "              ('Newspaper', '0.3'),\n",
       "              ('Sales', '17.4')]),\n",
       " OrderedDict([('X1', '35'),\n",
       "              ('TV', '95.7'),\n",
       "              ('Radio', '1.4'),\n",
       "              ('Newspaper', '7.4'),\n",
       "              ('Sales', '9.5')]),\n",
       " OrderedDict([('X1', '36'),\n",
       "              ('TV', '290.7'),\n",
       "              ('Radio', '4.1'),\n",
       "              ('Newspaper', '8.5'),\n",
       "              ('Sales', '12.8')]),\n",
       " OrderedDict([('X1', '37'),\n",
       "              ('TV', '266.9'),\n",
       "              ('Radio', '43.8'),\n",
       "              ('Newspaper', '5'),\n",
       "              ('Sales', '25.4')]),\n",
       " OrderedDict([('X1', '38'),\n",
       "              ('TV', '74.7'),\n",
       "              ('Radio', '49.4'),\n",
       "              ('Newspaper', '45.7'),\n",
       "              ('Sales', '14.7')]),\n",
       " OrderedDict([('X1', '39'),\n",
       "              ('TV', '43.1'),\n",
       "              ('Radio', '26.7'),\n",
       "              ('Newspaper', '35.1'),\n",
       "              ('Sales', '10.1')]),\n",
       " OrderedDict([('X1', '40'),\n",
       "              ('TV', '228'),\n",
       "              ('Radio', '37.7'),\n",
       "              ('Newspaper', '32'),\n",
       "              ('Sales', '21.5')]),\n",
       " OrderedDict([('X1', '41'),\n",
       "              ('TV', '202.5'),\n",
       "              ('Radio', '22.3'),\n",
       "              ('Newspaper', '31.6'),\n",
       "              ('Sales', '16.6')]),\n",
       " OrderedDict([('X1', '42'),\n",
       "              ('TV', '177'),\n",
       "              ('Radio', '33.4'),\n",
       "              ('Newspaper', '38.7'),\n",
       "              ('Sales', '17.1')]),\n",
       " OrderedDict([('X1', '43'),\n",
       "              ('TV', '293.6'),\n",
       "              ('Radio', '27.7'),\n",
       "              ('Newspaper', '1.8'),\n",
       "              ('Sales', '20.7')]),\n",
       " OrderedDict([('X1', '44'),\n",
       "              ('TV', '206.9'),\n",
       "              ('Radio', '8.4'),\n",
       "              ('Newspaper', '26.4'),\n",
       "              ('Sales', '12.9')]),\n",
       " OrderedDict([('X1', '45'),\n",
       "              ('TV', '25.1'),\n",
       "              ('Radio', '25.7'),\n",
       "              ('Newspaper', '43.3'),\n",
       "              ('Sales', '8.5')]),\n",
       " OrderedDict([('X1', '46'),\n",
       "              ('TV', '175.1'),\n",
       "              ('Radio', '22.5'),\n",
       "              ('Newspaper', '31.5'),\n",
       "              ('Sales', '14.9')]),\n",
       " OrderedDict([('X1', '47'),\n",
       "              ('TV', '89.7'),\n",
       "              ('Radio', '9.9'),\n",
       "              ('Newspaper', '35.7'),\n",
       "              ('Sales', '10.6')]),\n",
       " OrderedDict([('X1', '48'),\n",
       "              ('TV', '239.9'),\n",
       "              ('Radio', '41.5'),\n",
       "              ('Newspaper', '18.5'),\n",
       "              ('Sales', '23.2')]),\n",
       " OrderedDict([('X1', '49'),\n",
       "              ('TV', '227.2'),\n",
       "              ('Radio', '15.8'),\n",
       "              ('Newspaper', '49.9'),\n",
       "              ('Sales', '14.8')]),\n",
       " OrderedDict([('X1', '50'),\n",
       "              ('TV', '66.9'),\n",
       "              ('Radio', '11.7'),\n",
       "              ('Newspaper', '36.8'),\n",
       "              ('Sales', '9.7')]),\n",
       " OrderedDict([('X1', '51'),\n",
       "              ('TV', '199.8'),\n",
       "              ('Radio', '3.1'),\n",
       "              ('Newspaper', '34.6'),\n",
       "              ('Sales', '11.4')]),\n",
       " OrderedDict([('X1', '52'),\n",
       "              ('TV', '100.4'),\n",
       "              ('Radio', '9.6'),\n",
       "              ('Newspaper', '3.6'),\n",
       "              ('Sales', '10.7')]),\n",
       " OrderedDict([('X1', '53'),\n",
       "              ('TV', '216.4'),\n",
       "              ('Radio', '41.7'),\n",
       "              ('Newspaper', '39.6'),\n",
       "              ('Sales', '22.6')]),\n",
       " OrderedDict([('X1', '54'),\n",
       "              ('TV', '182.6'),\n",
       "              ('Radio', '46.2'),\n",
       "              ('Newspaper', '58.7'),\n",
       "              ('Sales', '21.2')]),\n",
       " OrderedDict([('X1', '55'),\n",
       "              ('TV', '262.7'),\n",
       "              ('Radio', '28.8'),\n",
       "              ('Newspaper', '15.9'),\n",
       "              ('Sales', '20.2')]),\n",
       " OrderedDict([('X1', '56'),\n",
       "              ('TV', '198.9'),\n",
       "              ('Radio', '49.4'),\n",
       "              ('Newspaper', '60'),\n",
       "              ('Sales', '23.7')]),\n",
       " OrderedDict([('X1', '57'),\n",
       "              ('TV', '7.3'),\n",
       "              ('Radio', '28.1'),\n",
       "              ('Newspaper', '41.4'),\n",
       "              ('Sales', '5.5')]),\n",
       " OrderedDict([('X1', '58'),\n",
       "              ('TV', '136.2'),\n",
       "              ('Radio', '19.2'),\n",
       "              ('Newspaper', '16.6'),\n",
       "              ('Sales', '13.2')]),\n",
       " OrderedDict([('X1', '59'),\n",
       "              ('TV', '210.8'),\n",
       "              ('Radio', '49.6'),\n",
       "              ('Newspaper', '37.7'),\n",
       "              ('Sales', '23.8')]),\n",
       " OrderedDict([('X1', '60'),\n",
       "              ('TV', '210.7'),\n",
       "              ('Radio', '29.5'),\n",
       "              ('Newspaper', '9.3'),\n",
       "              ('Sales', '18.4')]),\n",
       " OrderedDict([('X1', '61'),\n",
       "              ('TV', '53.5'),\n",
       "              ('Radio', '2'),\n",
       "              ('Newspaper', '21.4'),\n",
       "              ('Sales', '8.1')]),\n",
       " OrderedDict([('X1', '62'),\n",
       "              ('TV', '261.3'),\n",
       "              ('Radio', '42.7'),\n",
       "              ('Newspaper', '54.7'),\n",
       "              ('Sales', '24.2')]),\n",
       " OrderedDict([('X1', '63'),\n",
       "              ('TV', '239.3'),\n",
       "              ('Radio', '15.5'),\n",
       "              ('Newspaper', '27.3'),\n",
       "              ('Sales', '15.7')]),\n",
       " OrderedDict([('X1', '64'),\n",
       "              ('TV', '102.7'),\n",
       "              ('Radio', '29.6'),\n",
       "              ('Newspaper', '8.4'),\n",
       "              ('Sales', '14')]),\n",
       " OrderedDict([('X1', '65'),\n",
       "              ('TV', '131.1'),\n",
       "              ('Radio', '42.8'),\n",
       "              ('Newspaper', '28.9'),\n",
       "              ('Sales', '18')]),\n",
       " OrderedDict([('X1', '66'),\n",
       "              ('TV', '69'),\n",
       "              ('Radio', '9.3'),\n",
       "              ('Newspaper', '0.9'),\n",
       "              ('Sales', '9.3')]),\n",
       " OrderedDict([('X1', '67'),\n",
       "              ('TV', '31.5'),\n",
       "              ('Radio', '24.6'),\n",
       "              ('Newspaper', '2.2'),\n",
       "              ('Sales', '9.5')]),\n",
       " OrderedDict([('X1', '68'),\n",
       "              ('TV', '139.3'),\n",
       "              ('Radio', '14.5'),\n",
       "              ('Newspaper', '10.2'),\n",
       "              ('Sales', '13.4')]),\n",
       " OrderedDict([('X1', '69'),\n",
       "              ('TV', '237.4'),\n",
       "              ('Radio', '27.5'),\n",
       "              ('Newspaper', '11'),\n",
       "              ('Sales', '18.9')]),\n",
       " OrderedDict([('X1', '70'),\n",
       "              ('TV', '216.8'),\n",
       "              ('Radio', '43.9'),\n",
       "              ('Newspaper', '27.2'),\n",
       "              ('Sales', '22.3')]),\n",
       " OrderedDict([('X1', '71'),\n",
       "              ('TV', '199.1'),\n",
       "              ('Radio', '30.6'),\n",
       "              ('Newspaper', '38.7'),\n",
       "              ('Sales', '18.3')]),\n",
       " OrderedDict([('X1', '72'),\n",
       "              ('TV', '109.8'),\n",
       "              ('Radio', '14.3'),\n",
       "              ('Newspaper', '31.7'),\n",
       "              ('Sales', '12.4')]),\n",
       " OrderedDict([('X1', '73'),\n",
       "              ('TV', '26.8'),\n",
       "              ('Radio', '33'),\n",
       "              ('Newspaper', '19.3'),\n",
       "              ('Sales', '8.8')]),\n",
       " OrderedDict([('X1', '74'),\n",
       "              ('TV', '129.4'),\n",
       "              ('Radio', '5.7'),\n",
       "              ('Newspaper', '31.3'),\n",
       "              ('Sales', '11')]),\n",
       " OrderedDict([('X1', '75'),\n",
       "              ('TV', '213.4'),\n",
       "              ('Radio', '24.6'),\n",
       "              ('Newspaper', '13.1'),\n",
       "              ('Sales', '17')]),\n",
       " OrderedDict([('X1', '76'),\n",
       "              ('TV', '16.9'),\n",
       "              ('Radio', '43.7'),\n",
       "              ('Newspaper', '89.4'),\n",
       "              ('Sales', '8.7')]),\n",
       " OrderedDict([('X1', '77'),\n",
       "              ('TV', '27.5'),\n",
       "              ('Radio', '1.6'),\n",
       "              ('Newspaper', '20.7'),\n",
       "              ('Sales', '6.9')]),\n",
       " OrderedDict([('X1', '78'),\n",
       "              ('TV', '120.5'),\n",
       "              ('Radio', '28.5'),\n",
       "              ('Newspaper', '14.2'),\n",
       "              ('Sales', '14.2')]),\n",
       " OrderedDict([('X1', '79'),\n",
       "              ('TV', '5.4'),\n",
       "              ('Radio', '29.9'),\n",
       "              ('Newspaper', '9.4'),\n",
       "              ('Sales', '5.3')]),\n",
       " OrderedDict([('X1', '80'),\n",
       "              ('TV', '116'),\n",
       "              ('Radio', '7.7'),\n",
       "              ('Newspaper', '23.1'),\n",
       "              ('Sales', '11')]),\n",
       " OrderedDict([('X1', '81'),\n",
       "              ('TV', '76.4'),\n",
       "              ('Radio', '26.7'),\n",
       "              ('Newspaper', '22.3'),\n",
       "              ('Sales', '11.8')]),\n",
       " OrderedDict([('X1', '82'),\n",
       "              ('TV', '239.8'),\n",
       "              ('Radio', '4.1'),\n",
       "              ('Newspaper', '36.9'),\n",
       "              ('Sales', '12.3')]),\n",
       " OrderedDict([('X1', '83'),\n",
       "              ('TV', '75.3'),\n",
       "              ('Radio', '20.3'),\n",
       "              ('Newspaper', '32.5'),\n",
       "              ('Sales', '11.3')]),\n",
       " OrderedDict([('X1', '84'),\n",
       "              ('TV', '68.4'),\n",
       "              ('Radio', '44.5'),\n",
       "              ('Newspaper', '35.6'),\n",
       "              ('Sales', '13.6')]),\n",
       " OrderedDict([('X1', '85'),\n",
       "              ('TV', '213.5'),\n",
       "              ('Radio', '43'),\n",
       "              ('Newspaper', '33.8'),\n",
       "              ('Sales', '21.7')]),\n",
       " OrderedDict([('X1', '86'),\n",
       "              ('TV', '193.2'),\n",
       "              ('Radio', '18.4'),\n",
       "              ('Newspaper', '65.7'),\n",
       "              ('Sales', '15.2')]),\n",
       " OrderedDict([('X1', '87'),\n",
       "              ('TV', '76.3'),\n",
       "              ('Radio', '27.5'),\n",
       "              ('Newspaper', '16'),\n",
       "              ('Sales', '12')]),\n",
       " OrderedDict([('X1', '88'),\n",
       "              ('TV', '110.7'),\n",
       "              ('Radio', '40.6'),\n",
       "              ('Newspaper', '63.2'),\n",
       "              ('Sales', '16')]),\n",
       " OrderedDict([('X1', '89'),\n",
       "              ('TV', '88.3'),\n",
       "              ('Radio', '25.5'),\n",
       "              ('Newspaper', '73.4'),\n",
       "              ('Sales', '12.9')]),\n",
       " OrderedDict([('X1', '90'),\n",
       "              ('TV', '109.8'),\n",
       "              ('Radio', '47.8'),\n",
       "              ('Newspaper', '51.4'),\n",
       "              ('Sales', '16.7')]),\n",
       " OrderedDict([('X1', '91'),\n",
       "              ('TV', '134.3'),\n",
       "              ('Radio', '4.9'),\n",
       "              ('Newspaper', '9.3'),\n",
       "              ('Sales', '11.2')]),\n",
       " OrderedDict([('X1', '92'),\n",
       "              ('TV', '28.6'),\n",
       "              ('Radio', '1.5'),\n",
       "              ('Newspaper', '33'),\n",
       "              ('Sales', '7.3')]),\n",
       " OrderedDict([('X1', '93'),\n",
       "              ('TV', '217.7'),\n",
       "              ('Radio', '33.5'),\n",
       "              ('Newspaper', '59'),\n",
       "              ('Sales', '19.4')]),\n",
       " OrderedDict([('X1', '94'),\n",
       "              ('TV', '250.9'),\n",
       "              ('Radio', '36.5'),\n",
       "              ('Newspaper', '72.3'),\n",
       "              ('Sales', '22.2')]),\n",
       " OrderedDict([('X1', '95'),\n",
       "              ('TV', '107.4'),\n",
       "              ('Radio', '14'),\n",
       "              ('Newspaper', '10.9'),\n",
       "              ('Sales', '11.5')]),\n",
       " OrderedDict([('X1', '96'),\n",
       "              ('TV', '163.3'),\n",
       "              ('Radio', '31.6'),\n",
       "              ('Newspaper', '52.9'),\n",
       "              ('Sales', '16.9')]),\n",
       " OrderedDict([('X1', '97'),\n",
       "              ('TV', '197.6'),\n",
       "              ('Radio', '3.5'),\n",
       "              ('Newspaper', '5.9'),\n",
       "              ('Sales', '11.7')]),\n",
       " OrderedDict([('X1', '98'),\n",
       "              ('TV', '184.9'),\n",
       "              ('Radio', '21'),\n",
       "              ('Newspaper', '22'),\n",
       "              ('Sales', '15.5')]),\n",
       " OrderedDict([('X1', '99'),\n",
       "              ('TV', '289.7'),\n",
       "              ('Radio', '42.3'),\n",
       "              ('Newspaper', '51.2'),\n",
       "              ('Sales', '25.4')]),\n",
       " OrderedDict([('X1', '100'),\n",
       "              ('TV', '135.2'),\n",
       "              ('Radio', '41.7'),\n",
       "              ('Newspaper', '45.9'),\n",
       "              ('Sales', '17.2')]),\n",
       " OrderedDict([('X1', '101'),\n",
       "              ('TV', '222.4'),\n",
       "              ('Radio', '4.3'),\n",
       "              ('Newspaper', '49.8'),\n",
       "              ('Sales', '11.7')]),\n",
       " OrderedDict([('X1', '102'),\n",
       "              ('TV', '296.4'),\n",
       "              ('Radio', '36.3'),\n",
       "              ('Newspaper', '100.9'),\n",
       "              ('Sales', '23.8')]),\n",
       " OrderedDict([('X1', '103'),\n",
       "              ('TV', '280.2'),\n",
       "              ('Radio', '10.1'),\n",
       "              ('Newspaper', '21.4'),\n",
       "              ('Sales', '14.8')]),\n",
       " OrderedDict([('X1', '104'),\n",
       "              ('TV', '187.9'),\n",
       "              ('Radio', '17.2'),\n",
       "              ('Newspaper', '17.9'),\n",
       "              ('Sales', '14.7')]),\n",
       " OrderedDict([('X1', '105'),\n",
       "              ('TV', '238.2'),\n",
       "              ('Radio', '34.3'),\n",
       "              ('Newspaper', '5.3'),\n",
       "              ('Sales', '20.7')]),\n",
       " OrderedDict([('X1', '106'),\n",
       "              ('TV', '137.9'),\n",
       "              ('Radio', '46.4'),\n",
       "              ('Newspaper', '59'),\n",
       "              ('Sales', '19.2')]),\n",
       " OrderedDict([('X1', '107'),\n",
       "              ('TV', '25'),\n",
       "              ('Radio', '11'),\n",
       "              ('Newspaper', '29.7'),\n",
       "              ('Sales', '7.2')]),\n",
       " OrderedDict([('X1', '108'),\n",
       "              ('TV', '90.4'),\n",
       "              ('Radio', '0.3'),\n",
       "              ('Newspaper', '23.2'),\n",
       "              ('Sales', '8.7')]),\n",
       " OrderedDict([('X1', '109'),\n",
       "              ('TV', '13.1'),\n",
       "              ('Radio', '0.4'),\n",
       "              ('Newspaper', '25.6'),\n",
       "              ('Sales', '5.3')]),\n",
       " OrderedDict([('X1', '110'),\n",
       "              ('TV', '255.4'),\n",
       "              ('Radio', '26.9'),\n",
       "              ('Newspaper', '5.5'),\n",
       "              ('Sales', '19.8')]),\n",
       " OrderedDict([('X1', '111'),\n",
       "              ('TV', '225.8'),\n",
       "              ('Radio', '8.2'),\n",
       "              ('Newspaper', '56.5'),\n",
       "              ('Sales', '13.4')]),\n",
       " OrderedDict([('X1', '112'),\n",
       "              ('TV', '241.7'),\n",
       "              ('Radio', '38'),\n",
       "              ('Newspaper', '23.2'),\n",
       "              ('Sales', '21.8')]),\n",
       " OrderedDict([('X1', '113'),\n",
       "              ('TV', '175.7'),\n",
       "              ('Radio', '15.4'),\n",
       "              ('Newspaper', '2.4'),\n",
       "              ('Sales', '14.1')]),\n",
       " OrderedDict([('X1', '114'),\n",
       "              ('TV', '209.6'),\n",
       "              ('Radio', '20.6'),\n",
       "              ('Newspaper', '10.7'),\n",
       "              ('Sales', '15.9')]),\n",
       " OrderedDict([('X1', '115'),\n",
       "              ('TV', '78.2'),\n",
       "              ('Radio', '46.8'),\n",
       "              ('Newspaper', '34.5'),\n",
       "              ('Sales', '14.6')]),\n",
       " OrderedDict([('X1', '116'),\n",
       "              ('TV', '75.1'),\n",
       "              ('Radio', '35'),\n",
       "              ('Newspaper', '52.7'),\n",
       "              ('Sales', '12.6')]),\n",
       " OrderedDict([('X1', '117'),\n",
       "              ('TV', '139.2'),\n",
       "              ('Radio', '14.3'),\n",
       "              ('Newspaper', '25.6'),\n",
       "              ('Sales', '12.2')]),\n",
       " OrderedDict([('X1', '118'),\n",
       "              ('TV', '76.4'),\n",
       "              ('Radio', '0.8'),\n",
       "              ('Newspaper', '14.8'),\n",
       "              ('Sales', '9.4')]),\n",
       " OrderedDict([('X1', '119'),\n",
       "              ('TV', '125.7'),\n",
       "              ('Radio', '36.9'),\n",
       "              ('Newspaper', '79.2'),\n",
       "              ('Sales', '15.9')]),\n",
       " OrderedDict([('X1', '120'),\n",
       "              ('TV', '19.4'),\n",
       "              ('Radio', '16'),\n",
       "              ('Newspaper', '22.3'),\n",
       "              ('Sales', '6.6')]),\n",
       " OrderedDict([('X1', '121'),\n",
       "              ('TV', '141.3'),\n",
       "              ('Radio', '26.8'),\n",
       "              ('Newspaper', '46.2'),\n",
       "              ('Sales', '15.5')]),\n",
       " OrderedDict([('X1', '122'),\n",
       "              ('TV', '18.8'),\n",
       "              ('Radio', '21.7'),\n",
       "              ('Newspaper', '50.4'),\n",
       "              ('Sales', '7')]),\n",
       " OrderedDict([('X1', '123'),\n",
       "              ('TV', '224'),\n",
       "              ('Radio', '2.4'),\n",
       "              ('Newspaper', '15.6'),\n",
       "              ('Sales', '11.6')]),\n",
       " OrderedDict([('X1', '124'),\n",
       "              ('TV', '123.1'),\n",
       "              ('Radio', '34.6'),\n",
       "              ('Newspaper', '12.4'),\n",
       "              ('Sales', '15.2')]),\n",
       " OrderedDict([('X1', '125'),\n",
       "              ('TV', '229.5'),\n",
       "              ('Radio', '32.3'),\n",
       "              ('Newspaper', '74.2'),\n",
       "              ('Sales', '19.7')]),\n",
       " OrderedDict([('X1', '126'),\n",
       "              ('TV', '87.2'),\n",
       "              ('Radio', '11.8'),\n",
       "              ('Newspaper', '25.9'),\n",
       "              ('Sales', '10.6')]),\n",
       " OrderedDict([('X1', '127'),\n",
       "              ('TV', '7.8'),\n",
       "              ('Radio', '38.9'),\n",
       "              ('Newspaper', '50.6'),\n",
       "              ('Sales', '6.6')]),\n",
       " OrderedDict([('X1', '128'),\n",
       "              ('TV', '80.2'),\n",
       "              ('Radio', '0'),\n",
       "              ('Newspaper', '9.2'),\n",
       "              ('Sales', '8.8')]),\n",
       " OrderedDict([('X1', '129'),\n",
       "              ('TV', '220.3'),\n",
       "              ('Radio', '49'),\n",
       "              ('Newspaper', '3.2'),\n",
       "              ('Sales', '24.7')]),\n",
       " OrderedDict([('X1', '130'),\n",
       "              ('TV', '59.6'),\n",
       "              ('Radio', '12'),\n",
       "              ('Newspaper', '43.1'),\n",
       "              ('Sales', '9.7')]),\n",
       " OrderedDict([('X1', '131'),\n",
       "              ('TV', '0.7'),\n",
       "              ('Radio', '39.6'),\n",
       "              ('Newspaper', '8.7'),\n",
       "              ('Sales', '1.6')]),\n",
       " OrderedDict([('X1', '132'),\n",
       "              ('TV', '265.2'),\n",
       "              ('Radio', '2.9'),\n",
       "              ('Newspaper', '43'),\n",
       "              ('Sales', '12.7')]),\n",
       " OrderedDict([('X1', '133'),\n",
       "              ('TV', '8.4'),\n",
       "              ('Radio', '27.2'),\n",
       "              ('Newspaper', '2.1'),\n",
       "              ('Sales', '5.7')]),\n",
       " OrderedDict([('X1', '134'),\n",
       "              ('TV', '219.8'),\n",
       "              ('Radio', '33.5'),\n",
       "              ('Newspaper', '45.1'),\n",
       "              ('Sales', '19.6')]),\n",
       " OrderedDict([('X1', '135'),\n",
       "              ('TV', '36.9'),\n",
       "              ('Radio', '38.6'),\n",
       "              ('Newspaper', '65.6'),\n",
       "              ('Sales', '10.8')]),\n",
       " OrderedDict([('X1', '136'),\n",
       "              ('TV', '48.3'),\n",
       "              ('Radio', '47'),\n",
       "              ('Newspaper', '8.5'),\n",
       "              ('Sales', '11.6')]),\n",
       " OrderedDict([('X1', '137'),\n",
       "              ('TV', '25.6'),\n",
       "              ('Radio', '39'),\n",
       "              ('Newspaper', '9.3'),\n",
       "              ('Sales', '9.5')]),\n",
       " OrderedDict([('X1', '138'),\n",
       "              ('TV', '273.7'),\n",
       "              ('Radio', '28.9'),\n",
       "              ('Newspaper', '59.7'),\n",
       "              ('Sales', '20.8')]),\n",
       " OrderedDict([('X1', '139'),\n",
       "              ('TV', '43'),\n",
       "              ('Radio', '25.9'),\n",
       "              ('Newspaper', '20.5'),\n",
       "              ('Sales', '9.6')]),\n",
       " OrderedDict([('X1', '140'),\n",
       "              ('TV', '184.9'),\n",
       "              ('Radio', '43.9'),\n",
       "              ('Newspaper', '1.7'),\n",
       "              ('Sales', '20.7')]),\n",
       " OrderedDict([('X1', '141'),\n",
       "              ('TV', '73.4'),\n",
       "              ('Radio', '17'),\n",
       "              ('Newspaper', '12.9'),\n",
       "              ('Sales', '10.9')]),\n",
       " OrderedDict([('X1', '142'),\n",
       "              ('TV', '193.7'),\n",
       "              ('Radio', '35.4'),\n",
       "              ('Newspaper', '75.6'),\n",
       "              ('Sales', '19.2')]),\n",
       " OrderedDict([('X1', '143'),\n",
       "              ('TV', '220.5'),\n",
       "              ('Radio', '33.2'),\n",
       "              ('Newspaper', '37.9'),\n",
       "              ('Sales', '20.1')]),\n",
       " OrderedDict([('X1', '144'),\n",
       "              ('TV', '104.6'),\n",
       "              ('Radio', '5.7'),\n",
       "              ('Newspaper', '34.4'),\n",
       "              ('Sales', '10.4')]),\n",
       " OrderedDict([('X1', '145'),\n",
       "              ('TV', '96.2'),\n",
       "              ('Radio', '14.8'),\n",
       "              ('Newspaper', '38.9'),\n",
       "              ('Sales', '11.4')]),\n",
       " OrderedDict([('X1', '146'),\n",
       "              ('TV', '140.3'),\n",
       "              ('Radio', '1.9'),\n",
       "              ('Newspaper', '9'),\n",
       "              ('Sales', '10.3')]),\n",
       " OrderedDict([('X1', '147'),\n",
       "              ('TV', '240.1'),\n",
       "              ('Radio', '7.3'),\n",
       "              ('Newspaper', '8.7'),\n",
       "              ('Sales', '13.2')]),\n",
       " OrderedDict([('X1', '148'),\n",
       "              ('TV', '243.2'),\n",
       "              ('Radio', '49'),\n",
       "              ('Newspaper', '44.3'),\n",
       "              ('Sales', '25.4')]),\n",
       " OrderedDict([('X1', '149'),\n",
       "              ('TV', '38'),\n",
       "              ('Radio', '40.3'),\n",
       "              ('Newspaper', '11.9'),\n",
       "              ('Sales', '10.9')]),\n",
       " OrderedDict([('X1', '150'),\n",
       "              ('TV', '44.7'),\n",
       "              ('Radio', '25.8'),\n",
       "              ('Newspaper', '20.6'),\n",
       "              ('Sales', '10.1')]),\n",
       " OrderedDict([('X1', '151'),\n",
       "              ('TV', '280.7'),\n",
       "              ('Radio', '13.9'),\n",
       "              ('Newspaper', '37'),\n",
       "              ('Sales', '16.1')]),\n",
       " OrderedDict([('X1', '152'),\n",
       "              ('TV', '121'),\n",
       "              ('Radio', '8.4'),\n",
       "              ('Newspaper', '48.7'),\n",
       "              ('Sales', '11.6')]),\n",
       " OrderedDict([('X1', '153'),\n",
       "              ('TV', '197.6'),\n",
       "              ('Radio', '23.3'),\n",
       "              ('Newspaper', '14.2'),\n",
       "              ('Sales', '16.6')]),\n",
       " OrderedDict([('X1', '154'),\n",
       "              ('TV', '171.3'),\n",
       "              ('Radio', '39.7'),\n",
       "              ('Newspaper', '37.7'),\n",
       "              ('Sales', '19')]),\n",
       " OrderedDict([('X1', '155'),\n",
       "              ('TV', '187.8'),\n",
       "              ('Radio', '21.1'),\n",
       "              ('Newspaper', '9.5'),\n",
       "              ('Sales', '15.6')]),\n",
       " OrderedDict([('X1', '156'),\n",
       "              ('TV', '4.1'),\n",
       "              ('Radio', '11.6'),\n",
       "              ('Newspaper', '5.7'),\n",
       "              ('Sales', '3.2')]),\n",
       " OrderedDict([('X1', '157'),\n",
       "              ('TV', '93.9'),\n",
       "              ('Radio', '43.5'),\n",
       "              ('Newspaper', '50.5'),\n",
       "              ('Sales', '15.3')]),\n",
       " OrderedDict([('X1', '158'),\n",
       "              ('TV', '149.8'),\n",
       "              ('Radio', '1.3'),\n",
       "              ('Newspaper', '24.3'),\n",
       "              ('Sales', '10.1')]),\n",
       " OrderedDict([('X1', '159'),\n",
       "              ('TV', '11.7'),\n",
       "              ('Radio', '36.9'),\n",
       "              ('Newspaper', '45.2'),\n",
       "              ('Sales', '7.3')]),\n",
       " OrderedDict([('X1', '160'),\n",
       "              ('TV', '131.7'),\n",
       "              ('Radio', '18.4'),\n",
       "              ('Newspaper', '34.6'),\n",
       "              ('Sales', '12.9')]),\n",
       " OrderedDict([('X1', '161'),\n",
       "              ('TV', '172.5'),\n",
       "              ('Radio', '18.1'),\n",
       "              ('Newspaper', '30.7'),\n",
       "              ('Sales', '14.4')]),\n",
       " OrderedDict([('X1', '162'),\n",
       "              ('TV', '85.7'),\n",
       "              ('Radio', '35.8'),\n",
       "              ('Newspaper', '49.3'),\n",
       "              ('Sales', '13.3')]),\n",
       " OrderedDict([('X1', '163'),\n",
       "              ('TV', '188.4'),\n",
       "              ('Radio', '18.1'),\n",
       "              ('Newspaper', '25.6'),\n",
       "              ('Sales', '14.9')]),\n",
       " OrderedDict([('X1', '164'),\n",
       "              ('TV', '163.5'),\n",
       "              ('Radio', '36.8'),\n",
       "              ('Newspaper', '7.4'),\n",
       "              ('Sales', '18')]),\n",
       " OrderedDict([('X1', '165'),\n",
       "              ('TV', '117.2'),\n",
       "              ('Radio', '14.7'),\n",
       "              ('Newspaper', '5.4'),\n",
       "              ('Sales', '11.9')]),\n",
       " OrderedDict([('X1', '166'),\n",
       "              ('TV', '234.5'),\n",
       "              ('Radio', '3.4'),\n",
       "              ('Newspaper', '84.8'),\n",
       "              ('Sales', '11.9')]),\n",
       " OrderedDict([('X1', '167'),\n",
       "              ('TV', '17.9'),\n",
       "              ('Radio', '37.6'),\n",
       "              ('Newspaper', '21.6'),\n",
       "              ('Sales', '8')]),\n",
       " OrderedDict([('X1', '168'),\n",
       "              ('TV', '206.8'),\n",
       "              ('Radio', '5.2'),\n",
       "              ('Newspaper', '19.4'),\n",
       "              ('Sales', '12.2')]),\n",
       " OrderedDict([('X1', '169'),\n",
       "              ('TV', '215.4'),\n",
       "              ('Radio', '23.6'),\n",
       "              ('Newspaper', '57.6'),\n",
       "              ('Sales', '17.1')]),\n",
       " OrderedDict([('X1', '170'),\n",
       "              ('TV', '284.3'),\n",
       "              ('Radio', '10.6'),\n",
       "              ('Newspaper', '6.4'),\n",
       "              ('Sales', '15')]),\n",
       " OrderedDict([('X1', '171'),\n",
       "              ('TV', '50'),\n",
       "              ('Radio', '11.6'),\n",
       "              ('Newspaper', '18.4'),\n",
       "              ('Sales', '8.4')]),\n",
       " OrderedDict([('X1', '172'),\n",
       "              ('TV', '164.5'),\n",
       "              ('Radio', '20.9'),\n",
       "              ('Newspaper', '47.4'),\n",
       "              ('Sales', '14.5')]),\n",
       " OrderedDict([('X1', '173'),\n",
       "              ('TV', '19.6'),\n",
       "              ('Radio', '20.1'),\n",
       "              ('Newspaper', '17'),\n",
       "              ('Sales', '7.6')]),\n",
       " OrderedDict([('X1', '174'),\n",
       "              ('TV', '168.4'),\n",
       "              ('Radio', '7.1'),\n",
       "              ('Newspaper', '12.8'),\n",
       "              ('Sales', '11.7')]),\n",
       " OrderedDict([('X1', '175'),\n",
       "              ('TV', '222.4'),\n",
       "              ('Radio', '3.4'),\n",
       "              ('Newspaper', '13.1'),\n",
       "              ('Sales', '11.5')]),\n",
       " OrderedDict([('X1', '176'),\n",
       "              ('TV', '276.9'),\n",
       "              ('Radio', '48.9'),\n",
       "              ('Newspaper', '41.8'),\n",
       "              ('Sales', '27')]),\n",
       " OrderedDict([('X1', '177'),\n",
       "              ('TV', '248.4'),\n",
       "              ('Radio', '30.2'),\n",
       "              ('Newspaper', '20.3'),\n",
       "              ('Sales', '20.2')]),\n",
       " OrderedDict([('X1', '178'),\n",
       "              ('TV', '170.2'),\n",
       "              ('Radio', '7.8'),\n",
       "              ('Newspaper', '35.2'),\n",
       "              ('Sales', '11.7')]),\n",
       " OrderedDict([('X1', '179'),\n",
       "              ('TV', '276.7'),\n",
       "              ('Radio', '2.3'),\n",
       "              ('Newspaper', '23.7'),\n",
       "              ('Sales', '11.8')]),\n",
       " OrderedDict([('X1', '180'),\n",
       "              ('TV', '165.6'),\n",
       "              ('Radio', '10'),\n",
       "              ('Newspaper', '17.6'),\n",
       "              ('Sales', '12.6')]),\n",
       " OrderedDict([('X1', '181'),\n",
       "              ('TV', '156.6'),\n",
       "              ('Radio', '2.6'),\n",
       "              ('Newspaper', '8.3'),\n",
       "              ('Sales', '10.5')]),\n",
       " OrderedDict([('X1', '182'),\n",
       "              ('TV', '218.5'),\n",
       "              ('Radio', '5.4'),\n",
       "              ('Newspaper', '27.4'),\n",
       "              ('Sales', '12.2')]),\n",
       " OrderedDict([('X1', '183'),\n",
       "              ('TV', '56.2'),\n",
       "              ('Radio', '5.7'),\n",
       "              ('Newspaper', '29.7'),\n",
       "              ('Sales', '8.7')]),\n",
       " OrderedDict([('X1', '184'),\n",
       "              ('TV', '287.6'),\n",
       "              ('Radio', '43'),\n",
       "              ('Newspaper', '71.8'),\n",
       "              ('Sales', '26.2')]),\n",
       " OrderedDict([('X1', '185'),\n",
       "              ('TV', '253.8'),\n",
       "              ('Radio', '21.3'),\n",
       "              ('Newspaper', '30'),\n",
       "              ('Sales', '17.6')]),\n",
       " OrderedDict([('X1', '186'),\n",
       "              ('TV', '205'),\n",
       "              ('Radio', '45.1'),\n",
       "              ('Newspaper', '19.6'),\n",
       "              ('Sales', '22.6')]),\n",
       " OrderedDict([('X1', '187'),\n",
       "              ('TV', '139.5'),\n",
       "              ('Radio', '2.1'),\n",
       "              ('Newspaper', '26.6'),\n",
       "              ('Sales', '10.3')]),\n",
       " OrderedDict([('X1', '188'),\n",
       "              ('TV', '191.1'),\n",
       "              ('Radio', '28.7'),\n",
       "              ('Newspaper', '18.2'),\n",
       "              ('Sales', '17.3')]),\n",
       " OrderedDict([('X1', '189'),\n",
       "              ('TV', '286'),\n",
       "              ('Radio', '13.9'),\n",
       "              ('Newspaper', '3.7'),\n",
       "              ('Sales', '15.9')]),\n",
       " OrderedDict([('X1', '190'),\n",
       "              ('TV', '18.7'),\n",
       "              ('Radio', '12.1'),\n",
       "              ('Newspaper', '23.4'),\n",
       "              ('Sales', '6.7')]),\n",
       " OrderedDict([('X1', '191'),\n",
       "              ('TV', '39.5'),\n",
       "              ('Radio', '41.1'),\n",
       "              ('Newspaper', '5.8'),\n",
       "              ('Sales', '10.8')]),\n",
       " OrderedDict([('X1', '192'),\n",
       "              ('TV', '75.5'),\n",
       "              ('Radio', '10.8'),\n",
       "              ('Newspaper', '6'),\n",
       "              ('Sales', '9.9')]),\n",
       " OrderedDict([('X1', '193'),\n",
       "              ('TV', '17.2'),\n",
       "              ('Radio', '4.1'),\n",
       "              ('Newspaper', '31.6'),\n",
       "              ('Sales', '5.9')]),\n",
       " OrderedDict([('X1', '194'),\n",
       "              ('TV', '166.8'),\n",
       "              ('Radio', '42'),\n",
       "              ('Newspaper', '3.6'),\n",
       "              ('Sales', '19.6')]),\n",
       " OrderedDict([('X1', '195'),\n",
       "              ('TV', '149.7'),\n",
       "              ('Radio', '35.6'),\n",
       "              ('Newspaper', '6'),\n",
       "              ('Sales', '17.3')]),\n",
       " OrderedDict([('X1', '196'),\n",
       "              ('TV', '38.2'),\n",
       "              ('Radio', '3.7'),\n",
       "              ('Newspaper', '13.8'),\n",
       "              ('Sales', '7.6')]),\n",
       " OrderedDict([('X1', '197'),\n",
       "              ('TV', '94.2'),\n",
       "              ('Radio', '4.9'),\n",
       "              ('Newspaper', '8.1'),\n",
       "              ('Sales', '9.7')]),\n",
       " OrderedDict([('X1', '198'),\n",
       "              ('TV', '177'),\n",
       "              ('Radio', '9.3'),\n",
       "              ('Newspaper', '6.4'),\n",
       "              ('Sales', '12.8')]),\n",
       " OrderedDict([('X1', '199'),\n",
       "              ('TV', '283.6'),\n",
       "              ('Radio', '42'),\n",
       "              ('Newspaper', '66.2'),\n",
       "              ('Sales', '25.5')]),\n",
       " OrderedDict([('X1', '200'),\n",
       "              ('TV', '232.1'),\n",
       "              ('Radio', '8.6'),\n",
       "              ('Newspaper', '8.7'),\n",
       "              ('Sales', '13.4')])]"
      ]
     },
     "execution_count": 3,
     "metadata": {},
     "output_type": "execute_result"
    }
   ],
   "source": [
    "messages"
   ]
  },
  {
   "cell_type": "markdown",
   "metadata": {},
   "source": [
    "# Pandas makes the life easier"
   ]
  },
  {
   "cell_type": "code",
   "execution_count": 4,
   "metadata": {},
   "outputs": [],
   "source": [
    "# conventional way to import pandas\n",
    "import pandas as pd"
   ]
  },
  {
   "cell_type": "code",
   "execution_count": 5,
   "metadata": {},
   "outputs": [
    {
     "data": {
      "text/html": [
       "<div>\n",
       "<style scoped>\n",
       "    .dataframe tbody tr th:only-of-type {\n",
       "        vertical-align: middle;\n",
       "    }\n",
       "\n",
       "    .dataframe tbody tr th {\n",
       "        vertical-align: top;\n",
       "    }\n",
       "\n",
       "    .dataframe thead th {\n",
       "        text-align: right;\n",
       "    }\n",
       "</style>\n",
       "<table border=\"1\" class=\"dataframe\">\n",
       "  <thead>\n",
       "    <tr style=\"text-align: right;\">\n",
       "      <th></th>\n",
       "      <th>TV</th>\n",
       "      <th>Radio</th>\n",
       "      <th>Newspaper</th>\n",
       "      <th>Sales</th>\n",
       "    </tr>\n",
       "    <tr>\n",
       "      <th>X1</th>\n",
       "      <th></th>\n",
       "      <th></th>\n",
       "      <th></th>\n",
       "      <th></th>\n",
       "    </tr>\n",
       "  </thead>\n",
       "  <tbody>\n",
       "    <tr>\n",
       "      <th>1</th>\n",
       "      <td>230.1</td>\n",
       "      <td>37.8</td>\n",
       "      <td>69.2</td>\n",
       "      <td>22.1</td>\n",
       "    </tr>\n",
       "    <tr>\n",
       "      <th>2</th>\n",
       "      <td>44.5</td>\n",
       "      <td>39.3</td>\n",
       "      <td>45.1</td>\n",
       "      <td>10.4</td>\n",
       "    </tr>\n",
       "    <tr>\n",
       "      <th>3</th>\n",
       "      <td>17.2</td>\n",
       "      <td>45.9</td>\n",
       "      <td>69.3</td>\n",
       "      <td>9.3</td>\n",
       "    </tr>\n",
       "    <tr>\n",
       "      <th>4</th>\n",
       "      <td>151.5</td>\n",
       "      <td>41.3</td>\n",
       "      <td>58.5</td>\n",
       "      <td>18.5</td>\n",
       "    </tr>\n",
       "    <tr>\n",
       "      <th>5</th>\n",
       "      <td>180.8</td>\n",
       "      <td>10.8</td>\n",
       "      <td>58.4</td>\n",
       "      <td>12.9</td>\n",
       "    </tr>\n",
       "  </tbody>\n",
       "</table>\n",
       "</div>"
      ],
      "text/plain": [
       "       TV  Radio  Newspaper  Sales\n",
       "X1                                \n",
       "1   230.1   37.8       69.2   22.1\n",
       "2    44.5   39.3       45.1   10.4\n",
       "3    17.2   45.9       69.3    9.3\n",
       "4   151.5   41.3       58.5   18.5\n",
       "5   180.8   10.8       58.4   12.9"
      ]
     },
     "execution_count": 5,
     "metadata": {},
     "output_type": "execute_result"
    }
   ],
   "source": [
    "# read CSV file directly from a URL and save the results\n",
    "data = pd.read_csv('Advertising.csv', index_col=0)\n",
    "\n",
    "# display the first 5 rows\n",
    "data.head()"
   ]
  },
  {
   "cell_type": "code",
   "execution_count": 6,
   "metadata": {},
   "outputs": [
    {
     "data": {
      "text/plain": [
       "X1\n",
       "1       69.2\n",
       "2       45.1\n",
       "3       69.3\n",
       "4       58.5\n",
       "5       58.4\n",
       "6       75.0\n",
       "7       23.5\n",
       "8       11.6\n",
       "9        1.0\n",
       "10      21.2\n",
       "11      24.2\n",
       "12       4.0\n",
       "13      65.9\n",
       "14       7.2\n",
       "15      46.0\n",
       "16      52.9\n",
       "17     114.0\n",
       "18      55.8\n",
       "19      18.3\n",
       "20      19.1\n",
       "21      53.4\n",
       "22      23.5\n",
       "23      49.6\n",
       "24      26.2\n",
       "25      18.3\n",
       "26      19.5\n",
       "27      12.6\n",
       "28      22.9\n",
       "29      22.9\n",
       "30      40.8\n",
       "       ...  \n",
       "171     18.4\n",
       "172     47.4\n",
       "173     17.0\n",
       "174     12.8\n",
       "175     13.1\n",
       "176     41.8\n",
       "177     20.3\n",
       "178     35.2\n",
       "179     23.7\n",
       "180     17.6\n",
       "181      8.3\n",
       "182     27.4\n",
       "183     29.7\n",
       "184     71.8\n",
       "185     30.0\n",
       "186     19.6\n",
       "187     26.6\n",
       "188     18.2\n",
       "189      3.7\n",
       "190     23.4\n",
       "191      5.8\n",
       "192      6.0\n",
       "193     31.6\n",
       "194      3.6\n",
       "195      6.0\n",
       "196     13.8\n",
       "197      8.1\n",
       "198      6.4\n",
       "199     66.2\n",
       "200      8.7\n",
       "Name: Newspaper, Length: 200, dtype: float64"
      ]
     },
     "execution_count": 6,
     "metadata": {},
     "output_type": "execute_result"
    }
   ],
   "source": [
    "data.Newspaper"
   ]
  },
  {
   "cell_type": "code",
   "execution_count": 7,
   "metadata": {},
   "outputs": [],
   "source": [
    "#?pd.read_csv "
   ]
  },
  {
   "cell_type": "markdown",
   "metadata": {},
   "source": [
    "Primary object types:\n",
    "\n",
    "- **DataFrame:** rows and columns (like a spreadsheet)\n",
    "- **Series:** a single column"
   ]
  },
  {
   "cell_type": "code",
   "execution_count": 8,
   "metadata": {},
   "outputs": [
    {
     "data": {
      "text/html": [
       "<div>\n",
       "<style scoped>\n",
       "    .dataframe tbody tr th:only-of-type {\n",
       "        vertical-align: middle;\n",
       "    }\n",
       "\n",
       "    .dataframe tbody tr th {\n",
       "        vertical-align: top;\n",
       "    }\n",
       "\n",
       "    .dataframe thead th {\n",
       "        text-align: right;\n",
       "    }\n",
       "</style>\n",
       "<table border=\"1\" class=\"dataframe\">\n",
       "  <thead>\n",
       "    <tr style=\"text-align: right;\">\n",
       "      <th></th>\n",
       "      <th>TV</th>\n",
       "      <th>Radio</th>\n",
       "      <th>Newspaper</th>\n",
       "      <th>Sales</th>\n",
       "    </tr>\n",
       "    <tr>\n",
       "      <th>X1</th>\n",
       "      <th></th>\n",
       "      <th></th>\n",
       "      <th></th>\n",
       "      <th></th>\n",
       "    </tr>\n",
       "  </thead>\n",
       "  <tbody>\n",
       "    <tr>\n",
       "      <th>196</th>\n",
       "      <td>38.2</td>\n",
       "      <td>3.7</td>\n",
       "      <td>13.8</td>\n",
       "      <td>7.6</td>\n",
       "    </tr>\n",
       "    <tr>\n",
       "      <th>197</th>\n",
       "      <td>94.2</td>\n",
       "      <td>4.9</td>\n",
       "      <td>8.1</td>\n",
       "      <td>9.7</td>\n",
       "    </tr>\n",
       "    <tr>\n",
       "      <th>198</th>\n",
       "      <td>177.0</td>\n",
       "      <td>9.3</td>\n",
       "      <td>6.4</td>\n",
       "      <td>12.8</td>\n",
       "    </tr>\n",
       "    <tr>\n",
       "      <th>199</th>\n",
       "      <td>283.6</td>\n",
       "      <td>42.0</td>\n",
       "      <td>66.2</td>\n",
       "      <td>25.5</td>\n",
       "    </tr>\n",
       "    <tr>\n",
       "      <th>200</th>\n",
       "      <td>232.1</td>\n",
       "      <td>8.6</td>\n",
       "      <td>8.7</td>\n",
       "      <td>13.4</td>\n",
       "    </tr>\n",
       "  </tbody>\n",
       "</table>\n",
       "</div>"
      ],
      "text/plain": [
       "        TV  Radio  Newspaper  Sales\n",
       "X1                                 \n",
       "196   38.2    3.7       13.8    7.6\n",
       "197   94.2    4.9        8.1    9.7\n",
       "198  177.0    9.3        6.4   12.8\n",
       "199  283.6   42.0       66.2   25.5\n",
       "200  232.1    8.6        8.7   13.4"
      ]
     },
     "execution_count": 8,
     "metadata": {},
     "output_type": "execute_result"
    }
   ],
   "source": [
    "# display the last 5 rows\n",
    "data.tail()"
   ]
  },
  {
   "cell_type": "code",
   "execution_count": 9,
   "metadata": {
    "scrolled": true
   },
   "outputs": [
    {
     "data": {
      "text/plain": [
       "(200, 4)"
      ]
     },
     "execution_count": 9,
     "metadata": {},
     "output_type": "execute_result"
    }
   ],
   "source": [
    "# check the shape of the DataFrame (rows, columns)\n",
    "data.shape"
   ]
  },
  {
   "cell_type": "markdown",
   "metadata": {},
   "source": [
    "## Can we apply linear Regression to it\n",
    "\n",
    "5 conditoions needs to be satisfied for the Linear Regression to be applied\n",
    "\n",
    "1> The target variable should be continous data.\n",
    "2> Linear relationaship between the Independent and dependent variable.\n",
    "3> The outlier condition\n",
    "4> independent of errors\n",
    "5> homoscedasticity\n",
    "6> Normality of error distribution.\n",
    "\n",
    "\n",
    "\n",
    "\n",
    "There are four principal assumptions which justify the use of linear regression models for purposes of inference or prediction:\n",
    "\n",
    "(i) linearity and additivity of the relationship between dependent and independent variables:\n",
    "\n",
    "    (a) The expected value of dependent variable is a straight-line function of each independent variable, holding the others fixed.\n",
    "\n",
    "    (b) The slope of that line does not depend on the values of the other variables.\n",
    "\n",
    "    (c)  The effects of different independent variables on the expected value of the dependent variable are additive.\n",
    "\n",
    "(ii) statistical independence of the errors (in particular, no correlation between consecutive errors in the case of time series data)\n",
    "\n",
    "(iii) homoscedasticity (constant variance) of the errors\n",
    "\n",
    "    (a) versus time (in the case of time series data)\n",
    "\n",
    "    (b) versus the predictions\n",
    "\n",
    "    (c) versus any independent variable\n",
    "\n",
    "(iv) normality of the error distribution."
   ]
  },
  {
   "cell_type": "markdown",
   "metadata": {},
   "source": [
    "### Condition:1 Is my target variable continous data? "
   ]
  },
  {
   "cell_type": "code",
   "execution_count": 1,
   "metadata": {},
   "outputs": [
    {
     "ename": "NameError",
     "evalue": "name 'data' is not defined",
     "output_type": "error",
     "traceback": [
      "\u001b[1;31m---------------------------------------------------------------------------\u001b[0m",
      "\u001b[1;31mNameError\u001b[0m                                 Traceback (most recent call last)",
      "\u001b[1;32m<ipython-input-1-68548bc3668b>\u001b[0m in \u001b[0;36m<module>\u001b[1;34m\u001b[0m\n\u001b[0;32m      1\u001b[0m \u001b[1;31m# !pip install pandas_profiling\u001b[0m\u001b[1;33m\u001b[0m\u001b[1;33m\u001b[0m\u001b[1;33m\u001b[0m\u001b[0m\n\u001b[0;32m      2\u001b[0m \u001b[1;32mimport\u001b[0m \u001b[0mpandas_profiling\u001b[0m \u001b[1;32mas\u001b[0m \u001b[0mpp\u001b[0m\u001b[1;33m\u001b[0m\u001b[1;33m\u001b[0m\u001b[0m\n\u001b[1;32m----> 3\u001b[1;33m \u001b[0mpp\u001b[0m\u001b[1;33m.\u001b[0m\u001b[0mProfileReport\u001b[0m\u001b[1;33m(\u001b[0m\u001b[0mdata\u001b[0m\u001b[1;33m)\u001b[0m\u001b[1;33m\u001b[0m\u001b[1;33m\u001b[0m\u001b[0m\n\u001b[0m",
      "\u001b[1;31mNameError\u001b[0m: name 'data' is not defined"
     ]
    }
   ],
   "source": [
    "# !pip install pandas_profiling\n",
    "import pandas_profiling as pp\n",
    "pp.ProfileReport(data)"
   ]
  },
  {
   "cell_type": "code",
   "execution_count": 11,
   "metadata": {},
   "outputs": [
    {
     "data": {
      "text/html": [
       "<div>\n",
       "<style scoped>\n",
       "    .dataframe tbody tr th:only-of-type {\n",
       "        vertical-align: middle;\n",
       "    }\n",
       "\n",
       "    .dataframe tbody tr th {\n",
       "        vertical-align: top;\n",
       "    }\n",
       "\n",
       "    .dataframe thead th {\n",
       "        text-align: right;\n",
       "    }\n",
       "</style>\n",
       "<table border=\"1\" class=\"dataframe\">\n",
       "  <thead>\n",
       "    <tr style=\"text-align: right;\">\n",
       "      <th></th>\n",
       "      <th>TV</th>\n",
       "      <th>Radio</th>\n",
       "      <th>Newspaper</th>\n",
       "      <th>Sales</th>\n",
       "    </tr>\n",
       "  </thead>\n",
       "  <tbody>\n",
       "    <tr>\n",
       "      <th>count</th>\n",
       "      <td>200.000000</td>\n",
       "      <td>200.000000</td>\n",
       "      <td>200.000000</td>\n",
       "      <td>200.000000</td>\n",
       "    </tr>\n",
       "    <tr>\n",
       "      <th>mean</th>\n",
       "      <td>147.042500</td>\n",
       "      <td>23.264000</td>\n",
       "      <td>30.554000</td>\n",
       "      <td>14.022500</td>\n",
       "    </tr>\n",
       "    <tr>\n",
       "      <th>std</th>\n",
       "      <td>85.854236</td>\n",
       "      <td>14.846809</td>\n",
       "      <td>21.778621</td>\n",
       "      <td>5.217457</td>\n",
       "    </tr>\n",
       "    <tr>\n",
       "      <th>min</th>\n",
       "      <td>0.700000</td>\n",
       "      <td>0.000000</td>\n",
       "      <td>0.300000</td>\n",
       "      <td>1.600000</td>\n",
       "    </tr>\n",
       "    <tr>\n",
       "      <th>25%</th>\n",
       "      <td>74.375000</td>\n",
       "      <td>9.975000</td>\n",
       "      <td>12.750000</td>\n",
       "      <td>10.375000</td>\n",
       "    </tr>\n",
       "    <tr>\n",
       "      <th>50%</th>\n",
       "      <td>149.750000</td>\n",
       "      <td>22.900000</td>\n",
       "      <td>25.750000</td>\n",
       "      <td>12.900000</td>\n",
       "    </tr>\n",
       "    <tr>\n",
       "      <th>75%</th>\n",
       "      <td>218.825000</td>\n",
       "      <td>36.525000</td>\n",
       "      <td>45.100000</td>\n",
       "      <td>17.400000</td>\n",
       "    </tr>\n",
       "    <tr>\n",
       "      <th>max</th>\n",
       "      <td>296.400000</td>\n",
       "      <td>49.600000</td>\n",
       "      <td>114.000000</td>\n",
       "      <td>27.000000</td>\n",
       "    </tr>\n",
       "  </tbody>\n",
       "</table>\n",
       "</div>"
      ],
      "text/plain": [
       "               TV       Radio   Newspaper       Sales\n",
       "count  200.000000  200.000000  200.000000  200.000000\n",
       "mean   147.042500   23.264000   30.554000   14.022500\n",
       "std     85.854236   14.846809   21.778621    5.217457\n",
       "min      0.700000    0.000000    0.300000    1.600000\n",
       "25%     74.375000    9.975000   12.750000   10.375000\n",
       "50%    149.750000   22.900000   25.750000   12.900000\n",
       "75%    218.825000   36.525000   45.100000   17.400000\n",
       "max    296.400000   49.600000  114.000000   27.000000"
      ]
     },
     "execution_count": 11,
     "metadata": {},
     "output_type": "execute_result"
    }
   ],
   "source": [
    "data.describe()"
   ]
  },
  {
   "cell_type": "code",
   "execution_count": 12,
   "metadata": {},
   "outputs": [
    {
     "name": "stdout",
     "output_type": "stream",
     "text": [
      "<class 'pandas.core.frame.DataFrame'>\n",
      "Int64Index: 200 entries, 1 to 200\n",
      "Data columns (total 4 columns):\n",
      "TV           200 non-null float64\n",
      "Radio        200 non-null float64\n",
      "Newspaper    200 non-null float64\n",
      "Sales        200 non-null float64\n",
      "dtypes: float64(4)\n",
      "memory usage: 7.8 KB\n"
     ]
    }
   ],
   "source": [
    "data.info()"
   ]
  },
  {
   "cell_type": "code",
   "execution_count": 13,
   "metadata": {},
   "outputs": [
    {
     "data": {
      "text/plain": [
       "X1\n",
       "1      22.1\n",
       "2      10.4\n",
       "3       9.3\n",
       "4      18.5\n",
       "5      12.9\n",
       "6       7.2\n",
       "7      11.8\n",
       "8      13.2\n",
       "9       4.8\n",
       "10     10.6\n",
       "11      8.6\n",
       "12     17.4\n",
       "13      9.2\n",
       "14      9.7\n",
       "15     19.0\n",
       "16     22.4\n",
       "17     12.5\n",
       "18     24.4\n",
       "19     11.3\n",
       "20     14.6\n",
       "21     18.0\n",
       "22     12.5\n",
       "23      5.6\n",
       "24     15.5\n",
       "25      9.7\n",
       "26     12.0\n",
       "27     15.0\n",
       "28     15.9\n",
       "29     18.9\n",
       "30     10.5\n",
       "       ... \n",
       "171     8.4\n",
       "172    14.5\n",
       "173     7.6\n",
       "174    11.7\n",
       "175    11.5\n",
       "176    27.0\n",
       "177    20.2\n",
       "178    11.7\n",
       "179    11.8\n",
       "180    12.6\n",
       "181    10.5\n",
       "182    12.2\n",
       "183     8.7\n",
       "184    26.2\n",
       "185    17.6\n",
       "186    22.6\n",
       "187    10.3\n",
       "188    17.3\n",
       "189    15.9\n",
       "190     6.7\n",
       "191    10.8\n",
       "192     9.9\n",
       "193     5.9\n",
       "194    19.6\n",
       "195    17.3\n",
       "196     7.6\n",
       "197     9.7\n",
       "198    12.8\n",
       "199    25.5\n",
       "200    13.4\n",
       "Name: Sales, Length: 200, dtype: float64"
      ]
     },
     "execution_count": 13,
     "metadata": {},
     "output_type": "execute_result"
    }
   ],
   "source": [
    "data.Sales"
   ]
  },
  {
   "cell_type": "markdown",
   "metadata": {},
   "source": [
    "### condition:2 : Is there a correlation between IV & DV"
   ]
  },
  {
   "cell_type": "code",
   "execution_count": 14,
   "metadata": {},
   "outputs": [],
   "source": [
    "corrData = data.corr()"
   ]
  },
  {
   "cell_type": "code",
   "execution_count": 15,
   "metadata": {},
   "outputs": [
    {
     "data": {
      "text/html": [
       "<div>\n",
       "<style scoped>\n",
       "    .dataframe tbody tr th:only-of-type {\n",
       "        vertical-align: middle;\n",
       "    }\n",
       "\n",
       "    .dataframe tbody tr th {\n",
       "        vertical-align: top;\n",
       "    }\n",
       "\n",
       "    .dataframe thead th {\n",
       "        text-align: right;\n",
       "    }\n",
       "</style>\n",
       "<table border=\"1\" class=\"dataframe\">\n",
       "  <thead>\n",
       "    <tr style=\"text-align: right;\">\n",
       "      <th></th>\n",
       "      <th>TV</th>\n",
       "      <th>Radio</th>\n",
       "      <th>Newspaper</th>\n",
       "      <th>Sales</th>\n",
       "    </tr>\n",
       "  </thead>\n",
       "  <tbody>\n",
       "    <tr>\n",
       "      <th>TV</th>\n",
       "      <td>1.000000</td>\n",
       "      <td>0.054809</td>\n",
       "      <td>0.056648</td>\n",
       "      <td>0.782224</td>\n",
       "    </tr>\n",
       "    <tr>\n",
       "      <th>Radio</th>\n",
       "      <td>0.054809</td>\n",
       "      <td>1.000000</td>\n",
       "      <td>0.354104</td>\n",
       "      <td>0.576223</td>\n",
       "    </tr>\n",
       "    <tr>\n",
       "      <th>Newspaper</th>\n",
       "      <td>0.056648</td>\n",
       "      <td>0.354104</td>\n",
       "      <td>1.000000</td>\n",
       "      <td>0.228299</td>\n",
       "    </tr>\n",
       "    <tr>\n",
       "      <th>Sales</th>\n",
       "      <td>0.782224</td>\n",
       "      <td>0.576223</td>\n",
       "      <td>0.228299</td>\n",
       "      <td>1.000000</td>\n",
       "    </tr>\n",
       "  </tbody>\n",
       "</table>\n",
       "</div>"
      ],
      "text/plain": [
       "                 TV     Radio  Newspaper     Sales\n",
       "TV         1.000000  0.054809   0.056648  0.782224\n",
       "Radio      0.054809  1.000000   0.354104  0.576223\n",
       "Newspaper  0.056648  0.354104   1.000000  0.228299\n",
       "Sales      0.782224  0.576223   0.228299  1.000000"
      ]
     },
     "execution_count": 15,
     "metadata": {},
     "output_type": "execute_result"
    }
   ],
   "source": [
    "corrData"
   ]
  },
  {
   "cell_type": "code",
   "execution_count": 16,
   "metadata": {},
   "outputs": [],
   "source": [
    "import matplotlib.pyplot as plt\n",
    "from scipy.stats import norm\n",
    "import seaborn as sns"
   ]
  },
  {
   "cell_type": "code",
   "execution_count": 17,
   "metadata": {},
   "outputs": [
    {
     "data": {
      "text/plain": [
       "<matplotlib.axes._subplots.AxesSubplot at 0x1a24f05390>"
      ]
     },
     "execution_count": 17,
     "metadata": {},
     "output_type": "execute_result"
    },
    {
     "data": {
      "image/png": "[encoded data removed]",
      "text/plain": [
       "<Figure size 576x396 with 2 Axes>"
      ]
     },
     "metadata": {},
     "output_type": "display_data"
    }
   ],
   "source": [
    "sns.heatmap(corrData)"
   ]
  },
  {
   "cell_type": "markdown",
   "metadata": {},
   "source": [
    "## Lets see it via graph"
   ]
  },
  {
   "cell_type": "code",
   "execution_count": 18,
   "metadata": {},
   "outputs": [],
   "source": [
    "import matplotlib.pyplot as plt \n",
    "from scipy.stats import norm \n",
    "import seaborn as sns"
   ]
  },
  {
   "cell_type": "code",
   "execution_count": 19,
   "metadata": {},
   "outputs": [
    {
     "data": {
      "text/plain": [
       "<matplotlib.axes._subplots.AxesSubplot at 0x1a1f2c34a8>"
      ]
     },
     "execution_count": 19,
     "metadata": {},
     "output_type": "execute_result"
    },
    {
     "data": {
      "image/png": "[encoded data removed]",
      "text/plain": [
       "<Figure size 648x576 with 2 Axes>"
      ]
     },
     "metadata": {},
     "output_type": "display_data"
    }
   ],
   "source": [
    "f, ax = plt.subplots(figsize =(9, 8)) \n",
    "sns.heatmap(corrData, ax = ax, cmap =\"YlGnBu\", linewidths = 0.1)"
   ]
  },
  {
   "cell_type": "code",
   "execution_count": 20,
   "metadata": {},
   "outputs": [
    {
     "data": {
      "text/plain": [
       "<seaborn.matrix.ClusterGrid at 0x1a1f3b0550>"
      ]
     },
     "execution_count": 20,
     "metadata": {},
     "output_type": "execute_result"
    },
    {
     "data": {
      "image/png": "[encoded data removed]",
      "text/plain": [
       "<Figure size 720x720 with 4 Axes>"
      ]
     },
     "metadata": {},
     "output_type": "display_data"
    }
   ],
   "source": [
    "cg = sns.clustermap(corrData, cmap =\"YlGnBu\", linewidths = 0.1); \n",
    "plt.setp(cg.ax_heatmap.yaxis.get_majorticklabels(), rotation = 0) \n",
    "  \n",
    "cg "
   ]
  },
  {
   "cell_type": "markdown",
   "metadata": {},
   "source": [
    "What are the features?\n",
    "- **TV:** advertising dollars spent on TV for a single product in a given market (in thousands of dollars)\n",
    "- **Radio:** advertising dollars spent on Radio\n",
    "- **Newspaper:** advertising dollars spent on Newspaper\n",
    "\n",
    "What is the response?\n",
    "- **Sales:** sales of a single product in a given market (in thousands of items)\n",
    "\n",
    "What else do we know?\n",
    "- Because the response variable is continuous, this is a **regression** problem.\n",
    "- There are 200 **observations** (represented by the rows), and each observation is a single market."
   ]
  },
  {
   "cell_type": "markdown",
   "metadata": {},
   "source": [
    "## Visualizing data using seaborn\n",
    "\n",
    "**Seaborn:** Python library for statistical data visualization built on top of Matplotlib\n",
    "\n",
    "- Anaconda users: run **`conda install seaborn`** from the command line\n",
    "- Other users: [installation instructions](http://stanford.edu/~mwaskom/software/seaborn/installing.html)"
   ]
  },
  {
   "cell_type": "markdown",
   "metadata": {},
   "source": [
    "## We can check the condition #1 linear relationship and #2 outlier condition via graph"
   ]
  },
  {
   "cell_type": "code",
   "execution_count": 21,
   "metadata": {},
   "outputs": [],
   "source": [
    "# conventional way to import seaborn\n",
    "import seaborn as sns\n",
    "\n",
    "# allow plots to appear within the notebook\n",
    "%matplotlib inline"
   ]
  },
  {
   "cell_type": "code",
   "execution_count": 22,
   "metadata": {},
   "outputs": [
    {
     "data": {
      "text/plain": [
       "<seaborn.axisgrid.PairGrid at 0x1a1f852080>"
      ]
     },
     "execution_count": 22,
     "metadata": {},
     "output_type": "execute_result"
    },
    {
     "data": {
      "image/png": "[encoded data removed]",
      "text/plain": [
       "<Figure size 1058.4x504 with 3 Axes>"
      ]
     },
     "metadata": {
      "needs_background": "light"
     },
     "output_type": "display_data"
    }
   ],
   "source": [
    "# visualize the relationship between the features and the response using scatterplots\n",
    "sns.pairplot(data, x_vars=['TV','Radio','Newspaper'], y_vars='Sales', height=7, aspect=0.7, kind='reg')"
   ]
  },
  {
   "cell_type": "markdown",
   "metadata": {},
   "source": [
    "### Lets check Individual graph"
   ]
  },
  {
   "cell_type": "code",
   "execution_count": 23,
   "metadata": {},
   "outputs": [
    {
     "data": {
      "text/plain": [
       "<seaborn.axisgrid.PairGrid at 0x117614ac8>"
      ]
     },
     "execution_count": 23,
     "metadata": {},
     "output_type": "execute_result"
    },
    {
     "data": {
      "image/png": "[encoded data removed]",
      "text/plain": [
       "<Figure size 864x864 with 1 Axes>"
      ]
     },
     "metadata": {
      "needs_background": "light"
     },
     "output_type": "display_data"
    }
   ],
   "source": [
    "sns.pairplot(data, x_vars=['TV'], y_vars='Sales', height=12, aspect=1, kind='reg')"
   ]
  },
  {
   "cell_type": "code",
   "execution_count": 24,
   "metadata": {},
   "outputs": [
    {
     "data": {
      "text/plain": [
       "<seaborn.axisgrid.PairGrid at 0x1a20cab8d0>"
      ]
     },
     "execution_count": 24,
     "metadata": {},
     "output_type": "execute_result"
    },
    {
     "data": {
      "image/png": "[encoded data removed]",
      "text/plain": [
       "<Figure size 864x864 with 1 Axes>"
      ]
     },
     "metadata": {
      "needs_background": "light"
     },
     "output_type": "display_data"
    }
   ],
   "source": [
    "sns.pairplot(data, x_vars=['Radio'], y_vars='Sales', height=12, aspect=1, kind='reg')"
   ]
  },
  {
   "cell_type": "code",
   "execution_count": 25,
   "metadata": {},
   "outputs": [
    {
     "data": {
      "text/plain": [
       "<seaborn.axisgrid.PairGrid at 0x1a21295e48>"
      ]
     },
     "execution_count": 25,
     "metadata": {},
     "output_type": "execute_result"
    },
    {
     "data": {
      "image/png": "[encoded data removed]",
      "text/plain": [
       "<Figure size 864x864 with 1 Axes>"
      ]
     },
     "metadata": {
      "needs_background": "light"
     },
     "output_type": "display_data"
    }
   ],
   "source": [
    "sns.pairplot(data, x_vars=['Newspaper'], y_vars='Sales', height=12, aspect=1, kind='reg')"
   ]
  },
  {
   "cell_type": "code",
   "execution_count": 26,
   "metadata": {},
   "outputs": [
    {
     "data": {
      "text/plain": [
       "<seaborn.axisgrid.PairGrid at 0x1a215ac1d0>"
      ]
     },
     "execution_count": 26,
     "metadata": {},
     "output_type": "execute_result"
    },
    {
     "data": {
      "image/png": "[encoded data removed]",
      "text/plain": [
       "<Figure size 1512x504 with 3 Axes>"
      ]
     },
     "metadata": {
      "needs_background": "light"
     },
     "output_type": "display_data"
    }
   ],
   "source": [
    "sns.pairplot(data, x_vars=['TV','Radio','Newspaper'], y_vars='Sales', height=7, aspect=1, kind='reg')"
   ]
  },
  {
   "cell_type": "markdown",
   "metadata": {},
   "source": [
    "## Linear regression\n",
    "\n",
    "**Pros:** fast, no tuning required, highly interpretable, well-understood\n",
    "\n",
    "**Cons:** unlikely to produce the best predictive accuracy (presumes a linear relationship between the features and response)"
   ]
  },
  {
   "cell_type": "markdown",
   "metadata": {},
   "source": [
    "### Form of linear regression\n",
    "\n",
    "$y = \\beta_0 + \\beta_1x_1 + \\beta_2x_2 + ... + \\beta_nx_n$\n",
    "\n",
    "- $y$ is the response\n",
    "- $\\beta_0$ is the intercept\n",
    "- $\\beta_1$ is the coefficient for $x_1$ (the first feature)\n",
    "- $\\beta_n$ is the coefficient for $x_n$ (the nth feature)\n",
    "\n",
    "In this case:\n",
    "\n",
    "$y = \\beta_0 + \\beta_1 \\times TV + \\beta_2 \\times Radio + \\beta_3 \\times Newspaper$\n",
    "\n",
    "The $\\beta$ values are called the **model coefficients**. These values are \"learned\" during the model fitting step using the \"least squares\" criterion. Then, the fitted model can be used to make predictions!"
   ]
  },
  {
   "cell_type": "markdown",
   "metadata": {},
   "source": [
    "## Preparing X and y using pandas\n",
    "\n",
    "- scikit-learn expects X (feature matrix) and y (response vector) to be NumPy arrays.\n",
    "- However, pandas is built on top of NumPy.\n",
    "- Thus, X can be a pandas DataFrame and y can be a pandas Series!"
   ]
  },
  {
   "cell_type": "code",
   "execution_count": 27,
   "metadata": {},
   "outputs": [
    {
     "data": {
      "text/html": [
       "<div>\n",
       "<style scoped>\n",
       "    .dataframe tbody tr th:only-of-type {\n",
       "        vertical-align: middle;\n",
       "    }\n",
       "\n",
       "    .dataframe tbody tr th {\n",
       "        vertical-align: top;\n",
       "    }\n",
       "\n",
       "    .dataframe thead th {\n",
       "        text-align: right;\n",
       "    }\n",
       "</style>\n",
       "<table border=\"1\" class=\"dataframe\">\n",
       "  <thead>\n",
       "    <tr style=\"text-align: right;\">\n",
       "      <th></th>\n",
       "      <th>TV</th>\n",
       "      <th>Radio</th>\n",
       "      <th>Newspaper</th>\n",
       "    </tr>\n",
       "    <tr>\n",
       "      <th>X1</th>\n",
       "      <th></th>\n",
       "      <th></th>\n",
       "      <th></th>\n",
       "    </tr>\n",
       "  </thead>\n",
       "  <tbody>\n",
       "    <tr>\n",
       "      <th>1</th>\n",
       "      <td>230.1</td>\n",
       "      <td>37.8</td>\n",
       "      <td>69.2</td>\n",
       "    </tr>\n",
       "    <tr>\n",
       "      <th>2</th>\n",
       "      <td>44.5</td>\n",
       "      <td>39.3</td>\n",
       "      <td>45.1</td>\n",
       "    </tr>\n",
       "    <tr>\n",
       "      <th>3</th>\n",
       "      <td>17.2</td>\n",
       "      <td>45.9</td>\n",
       "      <td>69.3</td>\n",
       "    </tr>\n",
       "    <tr>\n",
       "      <th>4</th>\n",
       "      <td>151.5</td>\n",
       "      <td>41.3</td>\n",
       "      <td>58.5</td>\n",
       "    </tr>\n",
       "    <tr>\n",
       "      <th>5</th>\n",
       "      <td>180.8</td>\n",
       "      <td>10.8</td>\n",
       "      <td>58.4</td>\n",
       "    </tr>\n",
       "  </tbody>\n",
       "</table>\n",
       "</div>"
      ],
      "text/plain": [
       "       TV  Radio  Newspaper\n",
       "X1                         \n",
       "1   230.1   37.8       69.2\n",
       "2    44.5   39.3       45.1\n",
       "3    17.2   45.9       69.3\n",
       "4   151.5   41.3       58.5\n",
       "5   180.8   10.8       58.4"
      ]
     },
     "execution_count": 27,
     "metadata": {},
     "output_type": "execute_result"
    }
   ],
   "source": [
    "# create a Python list of feature names\n",
    "feature_cols = ['TV', 'Radio', 'Newspaper']\n",
    "\n",
    "# use the list to select a subset of the original DataFrame\n",
    "X = data[feature_cols]\n",
    "\n",
    "# equivalent command to do this in one line\n",
    "X = data[['TV', 'Radio', 'Newspaper']]\n",
    "\n",
    "# print the first 5 rows\n",
    "X.head()"
   ]
  },
  {
   "cell_type": "code",
   "execution_count": 28,
   "metadata": {},
   "outputs": [
    {
     "name": "stdout",
     "output_type": "stream",
     "text": [
      "<class 'pandas.core.frame.DataFrame'>\n",
      "(200, 3)\n"
     ]
    }
   ],
   "source": [
    "# check the type and shape of X\n",
    "print(type(X))\n",
    "print(X.shape)"
   ]
  },
  {
   "cell_type": "code",
   "execution_count": 29,
   "metadata": {},
   "outputs": [
    {
     "data": {
      "text/plain": [
       "X1\n",
       "1    22.1\n",
       "2    10.4\n",
       "3     9.3\n",
       "4    18.5\n",
       "5    12.9\n",
       "Name: Sales, dtype: float64"
      ]
     },
     "execution_count": 29,
     "metadata": {},
     "output_type": "execute_result"
    }
   ],
   "source": [
    "# select a Series from the DataFrame\n",
    "y = data['Sales']\n",
    "\n",
    "# equivalent command that works if there are no spaces in the column name\n",
    "y = data.Sales\n",
    "\n",
    "# print the first 5 values\n",
    "y.head()"
   ]
  },
  {
   "cell_type": "code",
   "execution_count": 30,
   "metadata": {},
   "outputs": [
    {
     "name": "stdout",
     "output_type": "stream",
     "text": [
      "<class 'pandas.core.series.Series'>\n",
      "(200,)\n"
     ]
    }
   ],
   "source": [
    "# check the type and shape of y\n",
    "print(type(y))\n",
    "print(y.shape)"
   ]
  },
  {
   "cell_type": "markdown",
   "metadata": {},
   "source": [
    "## Splitting X and y into training and testing sets"
   ]
  },
  {
   "cell_type": "code",
   "execution_count": 31,
   "metadata": {},
   "outputs": [],
   "source": [
    "from sklearn.model_selection import train_test_split\n",
    "X_train, X_test, y_train, y_test = train_test_split(X, y, random_state=1)"
   ]
  },
  {
   "cell_type": "code",
   "execution_count": 32,
   "metadata": {},
   "outputs": [
    {
     "name": "stdout",
     "output_type": "stream",
     "text": [
      "(150, 3)\n",
      "(150,)\n",
      "(50, 3)\n",
      "(50,)\n"
     ]
    }
   ],
   "source": [
    "# default split is 75% for training and 25% for testing\n",
    "print(X_train.shape)\n",
    "print(y_train.shape)\n",
    "print(X_test.shape)\n",
    "print(y_test.shape)"
   ]
  },
  {
   "cell_type": "markdown",
   "metadata": {},
   "source": [
    "## Lets check Maulticollinearity "
   ]
  },
  {
   "cell_type": "markdown",
   "metadata": {},
   "source": [
    "#### Steps for Implementing VIF\n",
    "\n",
    "Run a multiple regression.\n",
    "Calculate the VIF factors.\n",
    "Inspect the factors for each predictor variable, if the VIF is between 5-10, multicolinearity is likely present and you should consider dropping the variable."
   ]
  },
  {
   "cell_type": "markdown",
   "metadata": {},
   "source": [
    "### How can you detect multicollinearity? \n",
    " 1. Bunch Map Analysis: By plotting scatter plots between various Xi’ s we can have a visual description of how the variables are related.\n",
    "\n",
    "2. Correlation Method: By calculating the correlation coefficients between the variables we can get to know about the extent of multicollinearity in the data.\n",
    "\n",
    "\n",
    "3.  VIF (Variance Inflation Factor) Method: Firstly we fit a model with all the variables and then calculate the variance inflation factor (VIF) for each variable. VIF measures how much the variance of an estimated regression coefficient increases if your predictors are correlated. The higher the value of VIF for ith regressor, the more it is highly correlated to other variables.\n",
    "\n",
    "#### How to check for multicollinearity:\n",
    "\n",
    "Use scatter plot to visualize correlation effect among variables.\n",
    "Use VIF factor. VIF value <= 4 suggests no multicollinearity whereas a value of >= 10 implies serious multicollinearity.\n",
    "Correlation table"
   ]
  },
  {
   "cell_type": "markdown",
   "metadata": {},
   "source": [
    "### 1. Bunch Map Analysis:"
   ]
  },
  {
   "cell_type": "code",
   "execution_count": 33,
   "metadata": {},
   "outputs": [
    {
     "data": {
      "image/png": "[encoded data removed]",
      "text/plain": [
       "<Figure size 720x720 with 20 Axes>"
      ]
     },
     "metadata": {},
     "output_type": "display_data"
    }
   ],
   "source": [
    "import seaborn as sns; sns.set(style=\"ticks\", color_codes=True)\n",
    "g = sns.pairplot(data)"
   ]
  },
  {
   "cell_type": "markdown",
   "metadata": {},
   "source": [
    "## 2. Correlation Method:"
   ]
  },
  {
   "cell_type": "markdown",
   "metadata": {},
   "source": [
    "#### We have already applied that in code above"
   ]
  },
  {
   "cell_type": "markdown",
   "metadata": {},
   "source": [
    "# What is Variance Inflation Factor?"
   ]
  },
  {
   "cell_type": "markdown",
   "metadata": {},
   "source": [
    "##### Variance inflation factor (VIF) for an explanatory variable is given 1/(1-R^2 )  . Here, we take that particular X as response variable and all other explanatory variables as independent variables. So, we run a regression between one of those explanatory variables with remaining explanatory variables. "
   ]
  },
  {
   "cell_type": "markdown",
   "metadata": {},
   "source": [
    "## All the dependent variables and residuals should be uncorrelated."
   ]
  },
  {
   "cell_type": "code",
   "execution_count": 34,
   "metadata": {},
   "outputs": [],
   "source": [
    "from statsmodels.stats.outliers_influence import variance_inflation_factor\n",
    "\n",
    "\n",
    "variables = X_test\n",
    "vif = pd.DataFrame()\n",
    "vif[\"VIF\"] = [variance_inflation_factor(variables.values, i) for i in range(variables.shape[1])]\n",
    "vif[\"Features\"] = variables.columns"
   ]
  },
  {
   "cell_type": "code",
   "execution_count": 35,
   "metadata": {},
   "outputs": [
    {
     "data": {
      "text/html": [
       "<div>\n",
       "<style scoped>\n",
       "    .dataframe tbody tr th:only-of-type {\n",
       "        vertical-align: middle;\n",
       "    }\n",
       "\n",
       "    .dataframe tbody tr th {\n",
       "        vertical-align: top;\n",
       "    }\n",
       "\n",
       "    .dataframe thead th {\n",
       "        text-align: right;\n",
       "    }\n",
       "</style>\n",
       "<table border=\"1\" class=\"dataframe\">\n",
       "  <thead>\n",
       "    <tr style=\"text-align: right;\">\n",
       "      <th></th>\n",
       "      <th>VIF</th>\n",
       "      <th>Features</th>\n",
       "    </tr>\n",
       "  </thead>\n",
       "  <tbody>\n",
       "    <tr>\n",
       "      <th>0</th>\n",
       "      <td>3.031217</td>\n",
       "      <td>TV</td>\n",
       "    </tr>\n",
       "    <tr>\n",
       "      <th>1</th>\n",
       "      <td>3.224055</td>\n",
       "      <td>Radio</td>\n",
       "    </tr>\n",
       "    <tr>\n",
       "      <th>2</th>\n",
       "      <td>2.677266</td>\n",
       "      <td>Newspaper</td>\n",
       "    </tr>\n",
       "  </tbody>\n",
       "</table>\n",
       "</div>"
      ],
      "text/plain": [
       "        VIF   Features\n",
       "0  3.031217         TV\n",
       "1  3.224055      Radio\n",
       "2  2.677266  Newspaper"
      ]
     },
     "execution_count": 35,
     "metadata": {},
     "output_type": "execute_result"
    }
   ],
   "source": [
    "vif"
   ]
  },
  {
   "cell_type": "markdown",
   "metadata": {},
   "source": [
    "## If the value of Vif is less then 10 , we can safely say that the IV are not correlated."
   ]
  },
  {
   "cell_type": "markdown",
   "metadata": {},
   "source": [
    "## Linear regression in scikit-learn"
   ]
  },
  {
   "cell_type": "code",
   "execution_count": 36,
   "metadata": {},
   "outputs": [],
   "source": [
    "vif = pd.DataFrame()\n",
    "vif[\"VIF Factor\"] = [variance_inflation_factor(X.values, i) for i in range(X.shape[1])]\n",
    "vif[\"features\"] = X.columns"
   ]
  },
  {
   "cell_type": "code",
   "execution_count": 37,
   "metadata": {},
   "outputs": [
    {
     "data": {
      "text/plain": [
       "LinearRegression(copy_X=True, fit_intercept=True, n_jobs=None,\n",
       "         normalize=False)"
      ]
     },
     "execution_count": 37,
     "metadata": {},
     "output_type": "execute_result"
    }
   ],
   "source": [
    "# import model\n",
    "from sklearn.linear_model import LinearRegression\n",
    "\n",
    "# instantiate\n",
    "linreg = LinearRegression()\n",
    "\n",
    "# fit the model to the training data (learn the coefficients)\n",
    "linreg.fit(X_train, y_train)"
   ]
  },
  {
   "cell_type": "markdown",
   "metadata": {},
   "source": [
    "### Interpreting model coefficients"
   ]
  },
  {
   "cell_type": "code",
   "execution_count": 38,
   "metadata": {},
   "outputs": [
    {
     "name": "stdout",
     "output_type": "stream",
     "text": [
      "2.8769666223179318\n",
      "[0.04656457 0.17915812 0.00345046]\n"
     ]
    }
   ],
   "source": [
    "# print the intercept and coefficients\n",
    "print(linreg.intercept_)\n",
    "print(linreg.coef_)"
   ]
  },
  {
   "cell_type": "code",
   "execution_count": 39,
   "metadata": {},
   "outputs": [
    {
     "data": {
      "text/plain": [
       "[('TV', 0.04656456787415028),\n",
       " ('Radio', 0.17915812245088836),\n",
       " ('Newspaper', 0.0034504647111804347)]"
      ]
     },
     "execution_count": 39,
     "metadata": {},
     "output_type": "execute_result"
    }
   ],
   "source": [
    "# pair the feature names with the coefficients\n",
    "list(zip(feature_cols, linreg.coef_))"
   ]
  },
  {
   "cell_type": "markdown",
   "metadata": {},
   "source": [
    "$$y = 2.88 + 0.0466 \\times TV + 0.179 \\times Radio + 0.00345 \\times Newspaper$$\n",
    "\n",
    "How do we interpret the **TV coefficient** (0.0466)?\n",
    "\n",
    "- For a given amount of Radio and Newspaper ad spending, **a \"unit\" increase in TV ad spending** is associated with a **0.0466 \"unit\" increase in Sales**.\n",
    "- Or more clearly: For a given amount of Radio and Newspaper ad spending, **an additional $1,000 spent on TV ads** is associated with an **increase in sales of 46.6 items**.\n",
    "\n",
    "Important notes:\n",
    "\n",
    "- This is a statement of **association**, not **causation**.\n",
    "- If an increase in TV ad spending was associated with a **decrease** in sales, $\\beta_1$ would be **negative**."
   ]
  },
  {
   "cell_type": "markdown",
   "metadata": {},
   "source": [
    "### Making predictions"
   ]
  },
  {
   "cell_type": "code",
   "execution_count": 40,
   "metadata": {},
   "outputs": [],
   "source": [
    "# make predictions on the testing set\n",
    "y_pred = linreg.predict(X_test)"
   ]
  },
  {
   "cell_type": "markdown",
   "metadata": {},
   "source": [
    "We need an **evaluation metric** in order to compare our predictions with the actual values!"
   ]
  },
  {
   "cell_type": "markdown",
   "metadata": {},
   "source": [
    "## Model evaluation metrics for regression\n",
    "\n",
    "Evaluation metrics for classification problems, such as **accuracy**, are not useful for regression problems. Instead, we need evaluation metrics designed for comparing continuous values.\n",
    "\n",
    "Let's create some example numeric predictions, and calculate **three common evaluation metrics** for regression problems:"
   ]
  },
  {
   "cell_type": "code",
   "execution_count": 41,
   "metadata": {},
   "outputs": [],
   "source": [
    "# define true and predicted response values\n",
    "true = [100, 50, 30, 20]\n",
    "pred = [90, 50, 50, 30]"
   ]
  },
  {
   "cell_type": "markdown",
   "metadata": {},
   "source": [
    "**Mean Absolute Error** (MAE) is the mean of the absolute value of the errors:\n",
    "\n",
    "$$\\frac 1n\\sum_{i=1}^n|y_i-\\hat{y}_i|$$"
   ]
  },
  {
   "cell_type": "code",
   "execution_count": 42,
   "metadata": {},
   "outputs": [
    {
     "name": "stdout",
     "output_type": "stream",
     "text": [
      "10.0\n",
      "10.0\n"
     ]
    }
   ],
   "source": [
    "# calculate MAE by hand\n",
    "print((10 + 0 + 20 + 10)/4.)\n",
    "\n",
    "# calculate MAE using scikit-learn\n",
    "from sklearn import metrics\n",
    "print(metrics.mean_absolute_error(true, pred))"
   ]
  },
  {
   "cell_type": "markdown",
   "metadata": {},
   "source": [
    "**Mean Squared Error** (MSE) is the mean of the squared errors:\n",
    "\n",
    "$$\\frac 1n\\sum_{i=1}^n(y_i-\\hat{y}_i)^2$$"
   ]
  },
  {
   "cell_type": "code",
   "execution_count": 43,
   "metadata": {},
   "outputs": [
    {
     "name": "stdout",
     "output_type": "stream",
     "text": [
      "150.0\n",
      "150.0\n"
     ]
    }
   ],
   "source": [
    "# calculate MSE by hand\n",
    "print((10**2 + 0**2 + 20**2 + 10**2)/4.)\n",
    "\n",
    "# calculate MSE using scikit-learn\n",
    "print(metrics.mean_squared_error(true, pred))"
   ]
  },
  {
   "cell_type": "markdown",
   "metadata": {},
   "source": [
    "**Root Mean Squared Error** (RMSE) is the square root of the mean of the squared errors:\n",
    "\n",
    "$$\\sqrt{\\frac 1n\\sum_{i=1}^n(y_i-\\hat{y}_i)^2}$$"
   ]
  },
  {
   "cell_type": "code",
   "execution_count": 44,
   "metadata": {},
   "outputs": [
    {
     "name": "stdout",
     "output_type": "stream",
     "text": [
      "12.24744871391589\n",
      "12.24744871391589\n"
     ]
    }
   ],
   "source": [
    "# calculate RMSE by hand\n",
    "import numpy as np\n",
    "print(np.sqrt((10**2 + 0**2 + 20**2 + 10**2)/4.))\n",
    "\n",
    "# calculate RMSE using scikit-learn\n",
    "print(np.sqrt(metrics.mean_squared_error(true, pred)))"
   ]
  },
  {
   "cell_type": "markdown",
   "metadata": {},
   "source": [
    "Comparing these metrics:\n",
    "\n",
    "- **MAE** is the easiest to understand, because it's the average error.\n",
    "- **MSE** is more popular than MAE, because MSE \"punishes\" larger errors.\n",
    "- **RMSE** is even more popular than MSE, because RMSE is interpretable in the \"y\" units."
   ]
  },
  {
   "cell_type": "markdown",
   "metadata": {},
   "source": [
    "### Computing the RMSE for our Sales predictions"
   ]
  },
  {
   "cell_type": "code",
   "execution_count": 45,
   "metadata": {},
   "outputs": [
    {
     "name": "stdout",
     "output_type": "stream",
     "text": [
      "1.4046514230328955\n"
     ]
    }
   ],
   "source": [
    "print(np.sqrt(metrics.mean_squared_error(y_test, y_pred)))"
   ]
  },
  {
   "cell_type": "markdown",
   "metadata": {},
   "source": [
    "## Feature selection\n",
    "\n",
    "Does **Newspaper** \"belong\" in our model? In other words, does it improve the quality of our predictions?\n",
    "\n",
    "Let's **remove it** from the model and check the RMSE!"
   ]
  },
  {
   "cell_type": "code",
   "execution_count": 46,
   "metadata": {},
   "outputs": [
    {
     "name": "stdout",
     "output_type": "stream",
     "text": [
      "1.3879034699382888\n"
     ]
    }
   ],
   "source": [
    "# create a Python list of feature names\n",
    "feature_cols = ['TV', 'Radio']\n",
    "\n",
    "# use the list to select a subset of the original DataFrame\n",
    "X = data[feature_cols]\n",
    "\n",
    "# select a Series from the DataFrame\n",
    "y = data.Sales\n",
    "\n",
    "# split into training and testing sets\n",
    "X_train, X_test, y_train, y_test = train_test_split(X, y, random_state=1, test_ )\n",
    "\n",
    "# fit the model to the training data (learn the coefficients)\n",
    "linreg.fit(X_train, y_train)\n",
    "\n",
    "# make predictions on the testing set\n",
    "y_pred = linreg.predict(X_test)\n",
    "\n",
    "# compute the RMSE of our predictions\n",
    "print(np.sqrt(metrics.mean_squared_error(y_test, y_pred)))"
   ]
  },
  {
   "cell_type": "markdown",
   "metadata": {},
   "source": [
    "The RMSE **decreased** when we removed Newspaper from the model. (Error is something we want to minimize, so **a lower number for RMSE is better**.) Thus, it is unlikely that this feature is useful for predicting Sales, and should be removed from the model."
   ]
  },
  {
   "cell_type": "code",
   "execution_count": 47,
   "metadata": {},
   "outputs": [
    {
     "name": "stdout",
     "output_type": "stream",
     "text": [
      "Coefficients: \n",
      " [0.04660234 0.18117959]\n"
     ]
    }
   ],
   "source": [
    "# The coefficients\n",
    "print('Coefficients: \\n', linreg.coef_)"
   ]
  },
  {
   "cell_type": "code",
   "execution_count": 48,
   "metadata": {},
   "outputs": [],
   "source": [
    "import statsmodels.api as sm"
   ]
  },
  {
   "cell_type": "code",
   "execution_count": 49,
   "metadata": {},
   "outputs": [],
   "source": [
    "X = data[['TV','Radio']]"
   ]
  },
  {
   "cell_type": "code",
   "execution_count": 50,
   "metadata": {},
   "outputs": [
    {
     "data": {
      "text/html": [
       "<div>\n",
       "<style scoped>\n",
       "    .dataframe tbody tr th:only-of-type {\n",
       "        vertical-align: middle;\n",
       "    }\n",
       "\n",
       "    .dataframe tbody tr th {\n",
       "        vertical-align: top;\n",
       "    }\n",
       "\n",
       "    .dataframe thead th {\n",
       "        text-align: right;\n",
       "    }\n",
       "</style>\n",
       "<table border=\"1\" class=\"dataframe\">\n",
       "  <thead>\n",
       "    <tr style=\"text-align: right;\">\n",
       "      <th></th>\n",
       "      <th>TV</th>\n",
       "      <th>Radio</th>\n",
       "    </tr>\n",
       "    <tr>\n",
       "      <th>X1</th>\n",
       "      <th></th>\n",
       "      <th></th>\n",
       "    </tr>\n",
       "  </thead>\n",
       "  <tbody>\n",
       "    <tr>\n",
       "      <th>1</th>\n",
       "      <td>230.1</td>\n",
       "      <td>37.8</td>\n",
       "    </tr>\n",
       "    <tr>\n",
       "      <th>2</th>\n",
       "      <td>44.5</td>\n",
       "      <td>39.3</td>\n",
       "    </tr>\n",
       "    <tr>\n",
       "      <th>3</th>\n",
       "      <td>17.2</td>\n",
       "      <td>45.9</td>\n",
       "    </tr>\n",
       "    <tr>\n",
       "      <th>4</th>\n",
       "      <td>151.5</td>\n",
       "      <td>41.3</td>\n",
       "    </tr>\n",
       "    <tr>\n",
       "      <th>5</th>\n",
       "      <td>180.8</td>\n",
       "      <td>10.8</td>\n",
       "    </tr>\n",
       "  </tbody>\n",
       "</table>\n",
       "</div>"
      ],
      "text/plain": [
       "       TV  Radio\n",
       "X1              \n",
       "1   230.1   37.8\n",
       "2    44.5   39.3\n",
       "3    17.2   45.9\n",
       "4   151.5   41.3\n",
       "5   180.8   10.8"
      ]
     },
     "execution_count": 50,
     "metadata": {},
     "output_type": "execute_result"
    }
   ],
   "source": [
    "X.head()"
   ]
  },
  {
   "cell_type": "code",
   "execution_count": 51,
   "metadata": {},
   "outputs": [],
   "source": [
    "y = data['Sales']"
   ]
  },
  {
   "cell_type": "code",
   "execution_count": 52,
   "metadata": {},
   "outputs": [
    {
     "data": {
      "text/plain": [
       "X1\n",
       "1    22.1\n",
       "2    10.4\n",
       "3     9.3\n",
       "4    18.5\n",
       "5    12.9\n",
       "Name: Sales, dtype: float64"
      ]
     },
     "execution_count": 52,
     "metadata": {},
     "output_type": "execute_result"
    }
   ],
   "source": [
    "y.head()"
   ]
  },
  {
   "cell_type": "code",
   "execution_count": 53,
   "metadata": {},
   "outputs": [],
   "source": [
    "X =  sm.add_constant(X)"
   ]
  },
  {
   "cell_type": "code",
   "execution_count": 54,
   "metadata": {},
   "outputs": [],
   "source": [
    "model = sm.OLS(y, X).fit()"
   ]
  },
  {
   "cell_type": "code",
   "execution_count": 55,
   "metadata": {},
   "outputs": [
    {
     "data": {
      "text/html": [
       "<table class=\"simpletable\">\n",
       "<caption>OLS Regression Results</caption>\n",
       "<tr>\n",
       "  <th>Dep. Variable:</th>          <td>Sales</td>      <th>  R-squared:         </th> <td>   0.897</td>\n",
       "</tr>\n",
       "<tr>\n",
       "  <th>Model:</th>                   <td>OLS</td>       <th>  Adj. R-squared:    </th> <td>   0.896</td>\n",
       "</tr>\n",
       "<tr>\n",
       "  <th>Method:</th>             <td>Least Squares</td>  <th>  F-statistic:       </th> <td>   859.6</td>\n",
       "</tr>\n",
       "<tr>\n",
       "  <th>Date:</th>             <td>Sun, 19 Jan 2020</td> <th>  Prob (F-statistic):</th> <td>4.83e-98</td>\n",
       "</tr>\n",
       "<tr>\n",
       "  <th>Time:</th>                 <td>12:31:05</td>     <th>  Log-Likelihood:    </th> <td> -386.20</td>\n",
       "</tr>\n",
       "<tr>\n",
       "  <th>No. Observations:</th>      <td>   200</td>      <th>  AIC:               </th> <td>   778.4</td>\n",
       "</tr>\n",
       "<tr>\n",
       "  <th>Df Residuals:</th>          <td>   197</td>      <th>  BIC:               </th> <td>   788.3</td>\n",
       "</tr>\n",
       "<tr>\n",
       "  <th>Df Model:</th>              <td>     2</td>      <th>                     </th>     <td> </td>   \n",
       "</tr>\n",
       "<tr>\n",
       "  <th>Covariance Type:</th>      <td>nonrobust</td>    <th>                     </th>     <td> </td>   \n",
       "</tr>\n",
       "</table>\n",
       "<table class=\"simpletable\">\n",
       "<tr>\n",
       "    <td></td>       <th>coef</th>     <th>std err</th>      <th>t</th>      <th>P>|t|</th>  <th>[0.025</th>    <th>0.975]</th>  \n",
       "</tr>\n",
       "<tr>\n",
       "  <th>const</th> <td>    2.9211</td> <td>    0.294</td> <td>    9.919</td> <td> 0.000</td> <td>    2.340</td> <td>    3.502</td>\n",
       "</tr>\n",
       "<tr>\n",
       "  <th>TV</th>    <td>    0.0458</td> <td>    0.001</td> <td>   32.909</td> <td> 0.000</td> <td>    0.043</td> <td>    0.048</td>\n",
       "</tr>\n",
       "<tr>\n",
       "  <th>Radio</th> <td>    0.1880</td> <td>    0.008</td> <td>   23.382</td> <td> 0.000</td> <td>    0.172</td> <td>    0.204</td>\n",
       "</tr>\n",
       "</table>\n",
       "<table class=\"simpletable\">\n",
       "<tr>\n",
       "  <th>Omnibus:</th>       <td>60.022</td> <th>  Durbin-Watson:     </th> <td>   2.081</td>\n",
       "</tr>\n",
       "<tr>\n",
       "  <th>Prob(Omnibus):</th> <td> 0.000</td> <th>  Jarque-Bera (JB):  </th> <td> 148.679</td>\n",
       "</tr>\n",
       "<tr>\n",
       "  <th>Skew:</th>          <td>-1.323</td> <th>  Prob(JB):          </th> <td>5.19e-33</td>\n",
       "</tr>\n",
       "<tr>\n",
       "  <th>Kurtosis:</th>      <td> 6.292</td> <th>  Cond. No.          </th> <td>    425.</td>\n",
       "</tr>\n",
       "</table><br/><br/>Warnings:<br/>[1] Standard Errors assume that the covariance matrix of the errors is correctly specified."
      ],
      "text/plain": [
       "<class 'statsmodels.iolib.summary.Summary'>\n",
       "\"\"\"\n",
       "                            OLS Regression Results                            \n",
       "==============================================================================\n",
       "Dep. Variable:                  Sales   R-squared:                       0.897\n",
       "Model:                            OLS   Adj. R-squared:                  0.896\n",
       "Method:                 Least Squares   F-statistic:                     859.6\n",
       "Date:                Sun, 19 Jan 2020   Prob (F-statistic):           4.83e-98\n",
       "Time:                        12:31:05   Log-Likelihood:                -386.20\n",
       "No. Observations:                 200   AIC:                             778.4\n",
       "Df Residuals:                     197   BIC:                             788.3\n",
       "Df Model:                           2                                         \n",
       "Covariance Type:            nonrobust                                         \n",
       "==============================================================================\n",
       "                 coef    std err          t      P>|t|      [0.025      0.975]\n",
       "------------------------------------------------------------------------------\n",
       "const          2.9211      0.294      9.919      0.000       2.340       3.502\n",
       "TV             0.0458      0.001     32.909      0.000       0.043       0.048\n",
       "Radio          0.1880      0.008     23.382      0.000       0.172       0.204\n",
       "==============================================================================\n",
       "Omnibus:                       60.022   Durbin-Watson:                   2.081\n",
       "Prob(Omnibus):                  0.000   Jarque-Bera (JB):              148.679\n",
       "Skew:                          -1.323   Prob(JB):                     5.19e-33\n",
       "Kurtosis:                       6.292   Cond. No.                         425.\n",
       "==============================================================================\n",
       "\n",
       "Warnings:\n",
       "[1] Standard Errors assume that the covariance matrix of the errors is correctly specified.\n",
       "\"\"\""
      ]
     },
     "execution_count": 55,
     "metadata": {},
     "output_type": "execute_result"
    }
   ],
   "source": [
    "model.summary()"
   ]
  },
  {
   "cell_type": "markdown",
   "metadata": {},
   "source": [
    "### How to know if the regression model is the best fit for your data?\n",
    "The metrics used to determine model fit can have different values based on the type of data. Hence, we need to be extremely careful while interpreting regression analysis.\n",
    "\n",
    "Following are some metrics you can use to evaluate your regression model:\n",
    "\n",
    "##### p-Value \n",
    "are very important because we can consider a model to be statistically significant only when p-Values are less than the pre-determined statistical significance level, which is ideally 0.05. In Linear Regression, the Null Hypothesis is that the coefficients associated with the variables is equal to zero. The alternate hypothesis is that the coefficients are not equal to zero (i.e. there exists a relationship between the independent variable in question and the dependent variable).\n",
    "##### t-value: \n",
    "Pr(>|t|) or p-value is the probability that you get a t-value as high or higher than the observed value when the Null Hypothesis is true. If the Pr(>|t|) is low, the coefficients are significant (significantly different from zero) and vice versa.\n",
    "It is important for the model to be statistically significant before we can go ahead and use it to predict the dependent variable, otherwise, the confidence in predicted values from that model reduces and may be construed as an event of chance.\n",
    "\n",
    "##### R Square (Coefficient of Determination): \n",
    "explains the percentage of variance explained by covariates in the model. It tells us the proportion of variation in the dependent (response) variable that has been explained by the model. It ranges between 0 and 1. Usually, higher values are desirable but it rests on the data quality and domain. We don’t necessarily discard a model based on a low R-Squared value. Its a better practice to look at the AIC and prediction accuracy on validation sample when deciding on the efficacy of a model.\n",
    "\n",
    "##### Adjusted R²: \n",
    "penalizes total value for the number of predictors in the model. It doesn’t increase, stays same or decrease unless the newly added variable is truly useful. Therefore, when comparing nested models, it is a good practice to look at Adjusted R² value over R-squared.\n",
    "\n",
    "##### F Statistics: \n",
    "\n",
    "is the ratio of explained variance of the model by unexplained variance. It compares the full model with an intercept to evaluates the overall significance of the model. Its value can range between zero and any arbitrary large number.\n",
    "AIC and BIC: The Akaike’s information criterion – AIC and the Bayesian information criterion – BIC are measures of the goodness of fit of an estimated statistical model and can also be used for model selection. Both criteria depend on the maximized value of the likelihood function L for the estimated model.\n",
    "##### Mallow’s Cp: \n",
    "\n",
    "is defined as a criterion to assess fits when models with different numbers of parameters are being compared.\n",
    "\n",
    "##### RMSE / MSE / MAE: are crucial error metric.\n",
    "\n",
    "##### MSE: is mean squared error. It amplifies the impact of outliers on the model’s accuracy.\n",
    "##### MAE: is mean absolute error. It is robust against the effect of outliers.\n",
    "##### RMSE: \n",
    "is root mean square error. It is interpreted as how far on an average; the residuals are from zero. It nullifies squared effect of MSE by square root and provides the result in original units as data.\n",
    "##### MinMax Accuracy:\n",
    "is defined as mean (min(actual, predicted)/max(actual, predicted)). It tells how far the model’s prediction is off. For a perfect model, this measure is 1.0. The lower the measure, the worse the model, based on out-of-sample performance."
   ]
  },
  {
   "cell_type": "code",
   "execution_count": null,
   "metadata": {},
   "outputs": [],
   "source": []
  },
  {
   "cell_type": "code",
   "execution_count": null,
   "metadata": {},
   "outputs": [],
   "source": []
  }
 ],
 "metadata": {
  "kernelspec": {
   "display_name": "Python 3",
   "language": "python",
   "name": "python3"
  },
  "language_info": {
   "codemirror_mode": {
    "name": "ipython",
    "version": 3
   },
   "file_extension": ".py",
   "mimetype": "text/x-python",
   "name": "python",
   "nbconvert_exporter": "python",
   "pygments_lexer": "ipython3",
   "version": "3.8.6"
  }
 },
 "nbformat": 4,
 "nbformat_minor": 1
}
